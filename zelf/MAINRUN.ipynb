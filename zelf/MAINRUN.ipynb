{
 "cells": [
  {
   "cell_type": "code",
   "execution_count": 2,
   "metadata": {},
   "outputs": [],
   "source": [
    "import tensorflow as tf\n",
    "import time\n",
    "import numpy as np\n",
    "import pandas as pd\n",
    "from sklearn.model_selection import train_test_split\n",
    "from scipy.sparse import csr_matrix\n",
    "from tqdm import tqdm\n",
    "from hyperopt import hp, fmin, tpe, Trials, STATUS_OK\n",
    "import os\n",
    "import importlib"
   ]
  },
  {
   "cell_type": "code",
   "execution_count": 4,
   "metadata": {},
   "outputs": [
    {
     "name": "stdout",
     "output_type": "stream",
     "text": [
      "random seed:  42\n"
     ]
    }
   ],
   "source": [
    "# dir_r3 = 'C:/Users/Sten Stokroos/Desktop/NEW/zelf/Data/out'\n",
    "dir_ml = 'C:/Users/Sten Stokroos/Desktop/NEW/zelf/Data/out'\n",
    "randseed = 42\n",
    "print(\"random seed: \", randseed)\n",
    "np.random.seed(randseed)\n",
    "\n",
    "def choose_data(dat, test_size, val_size):\n",
    "    if dat == 'ml2':\n",
    "        train = pd.read_csv(os.path.join(dir_ml, 'ml_train2.csv'), sep=\"\\t\", header=None, names=['userId', 'songId', 'rating'], usecols=[0, 1, 2], engine=\"python\")\n",
    "        test = pd.read_csv(os.path.join(dir_ml, 'ml_test2.csv'), sep=\"\\t\", header=None, names=['userId', 'songId', 'rating'], usecols=[0, 1, 2], engine=\"python\")\n",
    "        val = None  # Assuming no validation set for 'ml2'\n",
    "    elif dat == 'ml':\n",
    "        ml_full = pd.read_csv(os.path.join(dir_ml, 'ml-1m_full.csv'), sep=\"\\t\", header=None, names=['userId', 'songId', 'rating'], usecols=[0, 1, 2], engine=\"python\")\n",
    "        n_users = max(ml_full['userId'].max()) + 1\n",
    "        n_items = max(ml_full['songId'].max()) + 1\n",
    "        # Get unique user IDs\n",
    "\n",
    "        user_ids = ml_full['userId'].unique()\n",
    "\n",
    "        # Split user IDs for train, validation, and test sets\n",
    "        train_ids, test_ids = train_test_split(user_ids, test_size=test_size, random_state=42)\n",
    "        train_ids, val_ids = train_test_split(train_ids, test_size=val_size/(1-test_size), random_state=42)\n",
    "\n",
    "        # Create train, validation, and test sets based on user IDs\n",
    "        train = ml_full[ml_full['userId'].isin(train_ids)]\n",
    "\n",
    "        print(train.head(20))\n",
    "        val = ml_full[ml_full['userId'].isin(val_ids)]\n",
    "        test = ml_full[ml_full['userId'].isin(test_ids)]\n",
    "    else:\n",
    "        print('Wrong data input')\n",
    "        return None, None, None\n",
    "\n",
    "    # Print the sizes of the datasets\n",
    "    print(f\"Train set size: {train.shape[0]} ratings\")\n",
    "    print(f\"Validation set size: {val.shape[0] if val is not None else 0} ratings\")\n",
    "    print(f\"Test set size: {test.shape[0]} ratings\")\n",
    "    print(ml_full.shape[0])\n",
    "    print(train.shape[0] + val.shape[0] +  test.shape[0])\n",
    "\n",
    "    return train, val, test, n_users, n_items\n",
    "\n",
    "def load_confounders(dat, k):\n",
    "    CAUSEFIT_DIR = f'C:/Users/Sten Stokroos/Desktop/NEW/zelf/Data/exposure_output/{dat}_exp_k_{k}.csv'\n",
    "    conf_df = pd.read_csv(CAUSEFIT_DIR, header=None)\n",
    "    confounder_data = conf_df.to_numpy().T\n",
    "    return confounder_data\n",
    "\n",
    "def load_data_rating(dat, columns=[0, 1, 2], sep=\"\\t\", include_validation=False, test_size=0.1, val_size=0.1):\n",
    "    train, val, test, n_users, n_items = choose_data(dat, test_size, val_size)\n",
    "    if train is None or test is None:\n",
    "        return None, None, None, None, None\n",
    "\n",
    "    if include_validation:\n",
    "        # Use the provided validation set\n",
    "        vad = val\n",
    "    else:\n",
    "        # Merge train and validation sets if validation is not required, and sort by userId\n",
    "        train = pd.concat([train, val]).sort_values(by='userId').reset_index(drop=True)\n",
    "        vad = None\n",
    "\n",
    "    def build_matrix(df):\n",
    "        rows = []\n",
    "        cols = []\n",
    "        ratings = []\n",
    "        for line in df.itertuples():\n",
    "            rows.append(line[1])\n",
    "            cols.append(line[2])\n",
    "            ratings.append(line[3])\n",
    "        return csr_matrix((ratings, (rows, cols)), shape=(n_users, n_items)).todok()\n",
    "\n",
    "    train_matrix = build_matrix(train)\n",
    "    test_matrix = build_matrix(test)\n",
    "    vad_matrix = build_matrix(vad) if vad is not None else None\n",
    "\n",
    "    print(\"Load data finished. Number of users:\", n_users, \"Number of items:\", n_items)\n",
    "    return train_matrix, test_matrix, vad_matrix, n_users, n_items\n",
    "\n",
    "\n",
    "def RMSE(error, num):\n",
    "    return np.sqrt(error / num)\n",
    "\n",
    "def MAE(error_mae, num):\n",
    "    return (error_mae / num)\n",
    "\n",
    "\n"
   ]
  },
  {
   "cell_type": "code",
   "execution_count": 17,
   "metadata": {},
   "outputs": [
    {
     "name": "stdout",
     "output_type": "stream",
     "text": [
      "Load data finished. Number of users: 6040 Number of items: 3706\n",
      "UAutoRec with Confounder.\n",
      "Train data processed shape: (3706, 6040)\n",
      "Confounder data shape: (3706, 6040)\n"
     ]
    },
    {
     "name": "stderr",
     "output_type": "stream",
     "text": [
      "Training: 100%|██████████| 20/20 [02:28<00:00,  7.44s/epoch, Loss=6.92e+4, Train RMSE=3.2, Test RMSE=0.966, MAE=0.773] \n"
     ]
    },
    {
     "name": "stdout",
     "output_type": "stream",
     "text": [
      "Final RMSE: 0.9634184933485228, Final MAE: 0.767376821859722\n"
     ]
    }
   ],
   "source": [
    "def run_model(module_name, class_name, k, dat='ml', include_validation=False, test_size=0.1, val_size=0.1, hidden_neuron=500, learning_rate=0.001, reg_rate=0.1, epoch=20, batch_size=200, verbose=False, T=3, display_step=1000, save_path=None):\n",
    "    train, test, vad, user, item = load_data_rating(dat, columns=[0, 1, 2], sep=\"\\t\", include_validation=include_validation, test_size=test_size, val_size=val_size)\n",
    "\n",
    "    # Load confounder data\n",
    "    confounder_data = load_confounders(dat, k)\n",
    "\n",
    "    config = tf.compat.v1.ConfigProto()\n",
    "    config.gpu_options.allow_growth = True\n",
    "\n",
    "    with tf.compat.v1.Session(config=config) as sess:\n",
    "        # Dynamically import the module and create an instance of the chosen class\n",
    "        module = importlib.import_module(module_name)\n",
    "        model_class = getattr(module, class_name)\n",
    "        final_model = model_class(sess, user, item, learning_rate=learning_rate, reg_rate=reg_rate, epoch=epoch, batch_size=batch_size, verbose=verbose, T=T, display_step=display_step)\n",
    "\n",
    "        final_model.build_network(hidden_neuron=hidden_neuron)\n",
    "        final_model.execute(train, test, confounder_data)\n",
    "\n",
    "        # Save the training and test RMSE values\n",
    "        if save_path:\n",
    "            class_folder = os.path.join(save_path, class_name.lower())\n",
    "            os.makedirs(class_folder, exist_ok=True)\n",
    "\n",
    "            train_loss_file = os.path.join(class_folder, f'train_loss_{dat}_k{k}.npy')\n",
    "            test_rmse_file = os.path.join(class_folder, f'test_rmse_{dat}_k{k}.npy')\n",
    "\n",
    "            np.save(train_loss_file, np.array(final_model.train_loss_history))\n",
    "            np.save(test_rmse_file, np.array(final_model.test_rmse_history))\n",
    "\n",
    "        # Evaluate the final model on the test set\n",
    "        final_rmse, final_mae = final_model.test(test, confounder_data)\n",
    "        print(f\"Final RMSE: {final_rmse}, Final MAE: {final_mae}\")\n",
    "\n",
    "# Example usage\n",
    "result_path = 'C:/Users/Sten Stokroos/Desktop/NEW/zelf/results'\n",
    "run_model('urectest', 'UAutoRec', k=30, dat='ml', include_validation=False, test_size=0.1, val_size=0.1, hidden_neuron=500, learning_rate=0.001, reg_rate=0.1, epoch=20, batch_size=500, verbose=True, save_path=result_path)"
   ]
  },
  {
   "cell_type": "code",
   "execution_count": null,
   "metadata": {},
   "outputs": [],
   "source": []
  }
 ],
 "metadata": {
  "kernelspec": {
   "display_name": "auto",
   "language": "python",
   "name": "python3"
  },
  "language_info": {
   "codemirror_mode": {
    "name": "ipython",
    "version": 3
   },
   "file_extension": ".py",
   "mimetype": "text/x-python",
   "name": "python",
   "nbconvert_exporter": "python",
   "pygments_lexer": "ipython3",
   "version": "3.7.12"
  }
 },
 "nbformat": 4,
 "nbformat_minor": 2
}
