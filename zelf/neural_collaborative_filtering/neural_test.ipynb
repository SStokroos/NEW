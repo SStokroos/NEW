{
 "cells": [
  {
   "cell_type": "code",
   "execution_count": 2,
   "metadata": {},
   "outputs": [
    {
     "ename": "AttributeError",
     "evalue": "'function' object has no attribute 'path'",
     "output_type": "error",
     "traceback": [
      "\u001b[1;31m---------------------------------------------------------------------------\u001b[0m",
      "\u001b[1;31mAttributeError\u001b[0m                            Traceback (most recent call last)",
      "Cell \u001b[1;32mIn[2], line 40\u001b[0m\n\u001b[0;32m     36\u001b[0m     \u001b[38;5;28;01mreturn\u001b[39;00m parser\u001b[38;5;241m.\u001b[39mparse_args()\n\u001b[0;32m     39\u001b[0m args \u001b[38;5;241m=\u001b[39m parse_args\n\u001b[1;32m---> 40\u001b[0m dataset \u001b[38;5;241m=\u001b[39m Dataset(args\u001b[38;5;241m.\u001b[39mpath \u001b[38;5;241m+\u001b[39m args\u001b[38;5;241m.\u001b[39mdataset)\n\u001b[0;32m     41\u001b[0m train, testRatings, testNegatives \u001b[38;5;241m=\u001b[39m dataset\u001b[38;5;241m.\u001b[39mtrainMatrix, dataset\u001b[38;5;241m.\u001b[39mtestRatings, dataset\u001b[38;5;241m.\u001b[39mtestNegatives\n\u001b[0;32m     43\u001b[0m \u001b[38;5;28mprint\u001b[39m(testNegatives)\n",
      "\u001b[1;31mAttributeError\u001b[0m: 'function' object has no attribute 'path'"
     ]
    }
   ],
   "source": [
    "from Dataset import Dataset\n",
    "import argparse\n",
    "\n",
    "def parse_args():\n",
    "    parser = argparse.ArgumentParser(description=\"Run NeuMF.\")\n",
    "    parser.add_argument('--path', nargs='?', default='Data/',\n",
    "                        help='Input data path.')\n",
    "    parser.add_argument('--dataset', nargs='?', default='ml-1m',\n",
    "                        help='Choose a dataset.')\n",
    "    parser.add_argument('--epochs', type=int, default=100,\n",
    "                        help='Number of epochs.')\n",
    "    parser.add_argument('--batch_size', type=int, default=256,\n",
    "                        help='Batch size.')\n",
    "    parser.add_argument('--num_factors', type=int, default=8,\n",
    "                        help='Embedding size of MF model.')\n",
    "    parser.add_argument('--layers', nargs='?', default='[64,32,16,8]',\n",
    "                        help=\"MLP layers. Note that the first layer is the concatenation of user and item embeddings. So layers[0]/2 is the embedding size.\")\n",
    "    parser.add_argument('--reg_mf', type=float, default=0,\n",
    "                        help='Regularization for MF embeddings.')                    \n",
    "    parser.add_argument('--reg_layers', nargs='?', default='[0,0,0,0]',\n",
    "                        help=\"Regularization for each MLP layer. reg_layers[0] is the regularization for embeddings.\")\n",
    "    parser.add_argument('--num_neg', type=int, default=4,\n",
    "                        help='Number of negative instances to pair with a positive instance.')\n",
    "    parser.add_argument('--lr', type=float, default=0.001,\n",
    "                        help='Learning rate.')\n",
    "    parser.add_argument('--learner', nargs='?', default='adam',\n",
    "                        help='Specify an optimizer: adagrad, adam, rmsprop, sgd')\n",
    "    parser.add_argument('--verbose', type=int, default=1,\n",
    "                        help='Show performance per X iterations')\n",
    "    parser.add_argument('--out', type=int, default=1,\n",
    "                        help='Whether to save the trained model.')\n",
    "    parser.add_argument('--mf_pretrain', nargs='?', default='',\n",
    "                        help='Specify the pretrain model file for MF part. If empty, no pretrain will be used')\n",
    "    parser.add_argument('--mlp_pretrain', nargs='?', default='',\n",
    "                        help='Specify the pretrain model file for MLP part. If empty, no pretrain will be used')\n",
    "    return parser.parse_args()\n",
    "\n",
    "\n",
    "args = parse_args\n",
    "dataset = Dataset(args.path + args.dataset)\n",
    "train, testRatings, testNegatives = dataset.trainMatrix, dataset.testRatings, dataset.testNegatives\n",
    "\n",
    "print(testNegatives)"
   ]
  },
  {
   "cell_type": "code",
   "execution_count": null,
   "metadata": {},
   "outputs": [],
   "source": []
  }
 ],
 "metadata": {
  "kernelspec": {
   "display_name": "base",
   "language": "python",
   "name": "python3"
  },
  "language_info": {
   "codemirror_mode": {
    "name": "ipython",
    "version": 3
   },
   "file_extension": ".py",
   "mimetype": "text/x-python",
   "name": "python",
   "nbconvert_exporter": "python",
   "pygments_lexer": "ipython3",
   "version": "3.11.7"
  }
 },
 "nbformat": 4,
 "nbformat_minor": 2
}
