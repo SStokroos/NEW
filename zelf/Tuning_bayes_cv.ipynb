{
 "cells": [
  {
   "cell_type": "code",
   "execution_count": 20,
   "metadata": {},
   "outputs": [
    {
     "name": "stdout",
     "output_type": "stream",
     "text": [
      "random seed:  42\n"
     ]
    }
   ],
   "source": [
    "import tensorflow as tf\n",
    "import time\n",
    "import numpy as np\n",
    "import pandas as pd\n",
    "from sklearn.model_selection import train_test_split\n",
    "from scipy.sparse import csr_matrix\n",
    "from tqdm import tqdm\n",
    "from hyperopt import hp, fmin, tpe, Trials, STATUS_OK\n",
    "import os\n",
    "import importlib\n",
    "# from importlib_metadata import version\n",
    "# from skopt import BayesSearchCV\n",
    "# from skopt.space import Categorical\n",
    "\n",
    "# dir_r3 = 'C:/Users/Sten Stokroos/Desktop/NEW/zelf/Data/out'\n",
    "dir_ml = 'C:/Users/Sten Stokroos/Desktop/NEW/zelf/Data/out'\n",
    "randseed = 42\n",
    "print(\"random seed: \", randseed)\n",
    "np.random.seed(randseed)\n",
    "\n",
    "def choose_data(dat, test_size, val_size):\n",
    "    if dat == 'ml2':\n",
    "        train = pd.read_csv(os.path.join(dir_ml, 'ml_train2.csv'), sep=\"\\t\", header=None, names=['userId', 'songId', 'rating'], usecols=[0, 1, 2], engine=\"python\")\n",
    "        test = pd.read_csv(os.path.join(dir_ml, 'ml_test2.csv'), sep=\"\\t\", header=None, names=['userId', 'songId', 'rating'], usecols=[0, 1, 2], engine=\"python\")\n",
    "        val = None  # Assuming no validation set for 'ml2'\n",
    "    elif dat == 'ml':\n",
    "        ml_full = pd.read_csv(os.path.join(dir_ml, 'ml-1m_full.csv'), sep=\"\\t\", header=None, names=['userId', 'songId', 'rating'], usecols=[0, 1, 2], engine=\"python\")\n",
    "\n",
    "        # Get unique user IDs\n",
    "\n",
    "        user_ids = ml_full['userId'].unique()\n",
    "        item_ids = ml_full['songId'].unique()\n",
    "\n",
    "        n_users = len(user_ids)\n",
    "        n_items = len(item_ids)\n",
    "        # Split user IDs for train, validation, and test sets\n",
    "        train, test = train_test_split(ml_full, test_size=test_size, random_state=42)\n",
    "        train, val = train_test_split(train, test_size=val_size/(1-test_size), random_state=42)\n",
    "\n",
    "    else:\n",
    "        print('Wrong data input')\n",
    "        return None, None, None\n",
    "\n",
    "    # Print the sizes of the datasets\n",
    "    print(f\"Train set size: {train.shape[0]} ratings\")\n",
    "    print(f\"Validation set size: {val.shape[0] if val is not None else 0} ratings\")\n",
    "    print(f\"Test set size: {test.shape[0]} ratings\")\n",
    "    print(ml_full.shape[0])\n",
    "    print(train.shape[0] + val.shape[0] +  test.shape[0])\n",
    "\n",
    "    return train, val, test, n_users, n_items\n",
    "\n",
    "def load_confounders(dat, k):\n",
    "    CAUSEFIT_DIR = f'C:/Users/Sten Stokroos/Desktop/NEW/zelf/Data/exposure_output/{dat}_exp_k_{k}.csv'\n",
    "    conf_df = pd.read_csv(CAUSEFIT_DIR, header=None)\n",
    "    confounder_data = conf_df.to_numpy().T\n",
    "    return confounder_data\n",
    "\n",
    "def load_data_rating(dat, columns=[0, 1, 2], sep=\"\\t\", include_validation=False, test_size=0.1, val_size=0.1):\n",
    "    train, val, test, n_users, n_items = choose_data(dat, test_size, val_size)\n",
    "\n",
    "    if train is None or test is None:\n",
    "        return None, None, None, None, None\n",
    "\n",
    "    if include_validation:\n",
    "        # Use the provided validation set\n",
    "        vad = val\n",
    "    else:\n",
    "        # Merge train and validation sets if validation is not required, and sort by userId\n",
    "        train = pd.concat([train, val]).sort_values(by='userId').reset_index(drop=True)\n",
    "        vad = None\n",
    "\n",
    "    def build_matrix(df):\n",
    "        rows = []\n",
    "        cols = []\n",
    "        ratings = []\n",
    "        for line in df.itertuples():\n",
    "            rows.append(line[1])\n",
    "            cols.append(line[2])\n",
    "            ratings.append(line[3])\n",
    "        return csr_matrix((ratings, (rows, cols)), shape=(n_users, n_items)).todok()\n",
    "\n",
    "    train_matrix = build_matrix(train)\n",
    "    test_matrix = build_matrix(test)\n",
    "    vad_matrix = build_matrix(vad) if vad is not None else None\n",
    "\n",
    "    print(\"Load data finished. Number of users:\", n_users, \"Number of items:\", n_items)\n",
    "    return train_matrix, test_matrix, vad_matrix, n_users, n_items\n",
    "\n",
    "\n",
    "from bayes_opt import BayesianOptimization\n",
    "\n",
    "def run_model(module_name, class_name, k, dat='ml', include_validation=False, use_confounder=False, use_exposure=False, test_size=0.1, val_size=0.1, hidden_neuron=500, learning_rate=0.001, reg_rate=0.1, epoch=20, batch_size=200, verbose=False, T=1, display_step=1000, save_path=None):\n",
    "    train, test, vad, user, item = load_data_rating(dat, columns=[0, 1, 2], sep=\"\\t\", include_validation=include_validation, test_size=test_size, val_size=val_size)\n",
    "\n",
    "    confounder_data = None\n",
    "    exposure_data = None\n",
    "\n",
    "    if use_confounder:\n",
    "        # Load confounder data\n",
    "        confounder_data = load_confounders(dat, k)\n",
    "    if use_exposure:\n",
    "        # Create exposure matrix\n",
    "        exposure_data = (train > 0).astype(np.float32).todense().T\n",
    "\n",
    "    config = tf.compat.v1.ConfigProto()\n",
    "    config.gpu_options.allow_growth = True\n",
    "\n",
    "    with tf.compat.v1.Session(config=config) as sess:\n",
    "        module = importlib.import_module(module_name)\n",
    "        model_class = getattr(module, class_name)\n",
    "        final_model = model_class(sess, user, item, learning_rate=learning_rate, reg_rate=reg_rate, epoch=epoch, batch_size=batch_size, verbose=verbose, T=T, display_step=display_step)\n",
    "\n",
    "        final_model.build_network(hidden_neuron=hidden_neuron)\n",
    "        \n",
    "        if confounder_data is not None and exposure_data is not None:\n",
    "            final_model.execute(train, vad, confounder_data, exposure_data)\n",
    "        elif confounder_data is not None:\n",
    "            final_model.execute(train, vad, confounder_data)\n",
    "        else:\n",
    "            final_model.execute(train, vad)\n",
    "\n",
    "        if vad is not None:\n",
    "            if confounder_data is not None and exposure_data is not None:\n",
    "                rmse, mae = final_model.test(vad, confounder_data, exposure_data)\n",
    "            elif confounder_data is not None:\n",
    "                rmse, mae = final_model.test(vad, confounder_data)\n",
    "            else:\n",
    "                rmse, mae = final_model.test(vad)\n",
    "        else:\n",
    "            rmse, mae = None, None\n",
    "\n",
    "    return rmse, mae\n",
    "\n"
   ]
  },
  {
   "cell_type": "code",
   "execution_count": 25,
   "metadata": {},
   "outputs": [],
   "source": [
    "def objective_urec1conf(learning_rate, reg_rate, hidden_neuron, k_idx):\n",
    "    k_values = [1, 2, 5, 10, 20, 32, 50, 100]\n",
    "    k = k_values[int(k_idx)]\n",
    "\n",
    "    lr_values = [0.0001, 0.001, 0.01, 0.1]\n",
    "    learning_rate = lr_values[int(learning_rate)]\n",
    "\n",
    "    rr_values = [0.001, 0.001, 0.01, 0.1, 1, 10, 100, 1000]\n",
    "    reg_rate = rr_values[int(reg_rate)]\n",
    "\n",
    "\n",
    "    # Run your model here with the specified hyperparameters\n",
    "    final_rmse, final_mae = run_model(\n",
    "        'urec_1_conf', 'UAutoRec1conf', k,\n",
    "        dat='ml', include_validation=True, use_confounder=True, use_exposure=False,\n",
    "        hidden_neuron=int(hidden_neuron), learning_rate=learning_rate, reg_rate=reg_rate,\n",
    "        batch_size=500, epoch=30\n",
    "    )\n",
    "\n",
    "    return -final_rmse  # Minimize RMSE\n",
    "\n",
    "def objective_urec2confexp(learning_rate, reg_rate, hidden_neuron, k):\n",
    "    params = {\n",
    "        'learning_rate': learning_rate,\n",
    "        'reg_rate': reg_rate,\n",
    "        'hidden_neuron': int(hidden_neuron),\n",
    "        'k': int(k)\n",
    "    }\n",
    "\n",
    "    final_rmse, _ = run_model('urec_2_confexp', 'UAutoRec2confexp', params['k'], dat='ml', include_validation=True, use_confounder=True, use_exposure=True, hidden_neuron=params['hidden_neuron'], learning_rate=params['learning_rate'], reg_rate=params['reg_rate'], batch_size=500, epoch=30, verbose=True)\n",
    "\n",
    "    return -final_rmse"
   ]
  },
  {
   "cell_type": "code",
   "execution_count": 27,
   "metadata": {},
   "outputs": [
    {
     "name": "stdout",
     "output_type": "stream",
     "text": [
      "|   iter    |  target   | hidden... |   k_idx   | learni... | reg_rate  |\n",
      "-------------------------------------------------------------------------\n",
      "Train set size: 800169 ratings\n",
      "Validation set size: 100022 ratings\n",
      "Test set size: 100022 ratings\n",
      "1000213\n",
      "1000213\n",
      "Load data finished. Number of users: 6040 Number of items: 3706\n",
      "UAutoRec with Confounder.\n",
      "Train data processed shape: (3706, 6040)\n",
      "Confounder data shape: (3706, 6040)\n"
     ]
    },
    {
     "name": "stderr",
     "output_type": "stream",
     "text": [
      "Training: 100%|██████████| 30/30 [02:27<00:00,  4.91s/epoch, Loss=4.74e+4, RMSE=0.893, MAE=0.705]\n"
     ]
    },
    {
     "name": "stdout",
     "output_type": "stream",
     "text": [
      "| \u001b[0m1        \u001b[0m | \u001b[0m-0.8926  \u001b[0m | \u001b[0m193.5    \u001b[0m | \u001b[0m6.655    \u001b[0m | \u001b[0m2.196    \u001b[0m | \u001b[0m4.191    \u001b[0m |\n",
      "Train set size: 800169 ratings\n",
      "Validation set size: 100022 ratings\n",
      "Test set size: 100022 ratings\n",
      "1000213\n",
      "1000213\n",
      "Load data finished. Number of users: 6040 Number of items: 3706\n",
      "UAutoRec with Confounder.\n",
      "Train data processed shape: (3706, 6040)\n",
      "Confounder data shape: (3706, 6040)\n"
     ]
    },
    {
     "name": "stderr",
     "output_type": "stream",
     "text": [
      "Training: 100%|██████████| 30/30 [02:09<00:00,  4.30s/epoch, Loss=9.65e+4, RMSE=1.07, MAE=0.876]\n"
     ]
    },
    {
     "name": "stdout",
     "output_type": "stream",
     "text": [
      "| \u001b[0m2        \u001b[0m | \u001b[0m-1.069   \u001b[0m | \u001b[0m86.45    \u001b[0m | \u001b[0m1.092    \u001b[0m | \u001b[0m0.1743   \u001b[0m | \u001b[0m6.063    \u001b[0m |\n",
      "Train set size: 800169 ratings\n",
      "Validation set size: 100022 ratings\n",
      "Test set size: 100022 ratings\n",
      "1000213\n",
      "1000213\n",
      "Load data finished. Number of users: 6040 Number of items: 3706\n",
      "UAutoRec with Confounder.\n",
      "Train data processed shape: (3706, 6040)\n",
      "Confounder data shape: (3706, 6040)\n"
     ]
    },
    {
     "name": "stderr",
     "output_type": "stream",
     "text": [
      "Training: 100%|██████████| 30/30 [02:30<00:00,  5.03s/epoch, Loss=8.28e+4, RMSE=1.01, MAE=0.809]\n"
     ]
    },
    {
     "name": "stdout",
     "output_type": "stream",
     "text": [
      "| \u001b[0m3        \u001b[0m | \u001b[0m-1.009   \u001b[0m | \u001b[0m304.5    \u001b[0m | \u001b[0m4.957    \u001b[0m | \u001b[0m0.06175  \u001b[0m | \u001b[0m6.789    \u001b[0m |\n",
      "Train set size: 800169 ratings\n",
      "Validation set size: 100022 ratings\n",
      "Test set size: 100022 ratings\n",
      "1000213\n",
      "1000213\n",
      "Load data finished. Number of users: 6040 Number of items: 3706\n",
      "UAutoRec with Confounder.\n",
      "Train data processed shape: (3706, 6040)\n",
      "Confounder data shape: (3706, 6040)\n"
     ]
    },
    {
     "name": "stderr",
     "output_type": "stream",
     "text": [
      "Training: 100%|██████████| 30/30 [02:25<00:00,  4.86s/epoch, Loss=6.65e+4, RMSE=1.01, MAE=0.805]\n"
     ]
    },
    {
     "name": "stdout",
     "output_type": "stream",
     "text": [
      "| \u001b[0m4        \u001b[0m | \u001b[0m-1.006   \u001b[0m | \u001b[0m417.9    \u001b[0m | \u001b[0m1.486    \u001b[0m | \u001b[0m0.5455   \u001b[0m | \u001b[0m1.284    \u001b[0m |\n",
      "Train set size: 800169 ratings\n",
      "Validation set size: 100022 ratings\n",
      "Test set size: 100022 ratings\n",
      "1000213\n",
      "1000213\n",
      "Load data finished. Number of users: 6040 Number of items: 3706\n",
      "UAutoRec with Confounder.\n",
      "Train data processed shape: (3706, 6040)\n",
      "Confounder data shape: (3706, 6040)\n"
     ]
    },
    {
     "name": "stderr",
     "output_type": "stream",
     "text": [
      "Training: 100%|██████████| 30/30 [02:04<00:00,  4.14s/epoch, Loss=6.38e+4, RMSE=0.983, MAE=0.784]\n"
     ]
    },
    {
     "name": "stdout",
     "output_type": "stream",
     "text": [
      "| \u001b[0m5        \u001b[0m | \u001b[0m-0.9827  \u001b[0m | \u001b[0m159.1    \u001b[0m | \u001b[0m3.673    \u001b[0m | \u001b[0m1.296    \u001b[0m | \u001b[0m2.039    \u001b[0m |\n",
      "Train set size: 800169 ratings\n",
      "Validation set size: 100022 ratings\n",
      "Test set size: 100022 ratings\n",
      "1000213\n",
      "1000213\n",
      "Load data finished. Number of users: 6040 Number of items: 3706\n",
      "UAutoRec with Confounder.\n",
      "Train data processed shape: (3706, 6040)\n",
      "Confounder data shape: (3706, 6040)\n"
     ]
    },
    {
     "name": "stderr",
     "output_type": "stream",
     "text": [
      "Training: 100%|██████████| 30/30 [02:06<00:00,  4.21s/epoch, Loss=6.62e+4, RMSE=1, MAE=0.788]    \n"
     ]
    },
    {
     "name": "stdout",
     "output_type": "stream",
     "text": [
      "| \u001b[0m6        \u001b[0m | \u001b[0m-1.002   \u001b[0m | \u001b[0m208.1    \u001b[0m | \u001b[0m0.0      \u001b[0m | \u001b[0m3.0      \u001b[0m | \u001b[0m0.01001  \u001b[0m |\n",
      "Train set size: 800169 ratings\n",
      "Validation set size: 100022 ratings\n",
      "Test set size: 100022 ratings\n",
      "1000213\n",
      "1000213\n",
      "Load data finished. Number of users: 6040 Number of items: 3706\n",
      "UAutoRec with Confounder.\n",
      "Train data processed shape: (3706, 6040)\n",
      "Confounder data shape: (3706, 6040)\n"
     ]
    },
    {
     "name": "stderr",
     "output_type": "stream",
     "text": [
      "Training: 100%|██████████| 30/30 [01:57<00:00,  3.93s/epoch, Loss=6.95e+4, RMSE=0.993, MAE=0.795]\n"
     ]
    },
    {
     "name": "stdout",
     "output_type": "stream",
     "text": [
      "| \u001b[0m7        \u001b[0m | \u001b[0m-0.9933  \u001b[0m | \u001b[0m34.12    \u001b[0m | \u001b[0m0.1294   \u001b[0m | \u001b[0m1.802    \u001b[0m | \u001b[0m5.067    \u001b[0m |\n",
      "Train set size: 800169 ratings\n",
      "Validation set size: 100022 ratings\n",
      "Test set size: 100022 ratings\n",
      "1000213\n",
      "1000213\n",
      "Load data finished. Number of users: 6040 Number of items: 3706\n",
      "UAutoRec with Confounder.\n",
      "Train data processed shape: (3706, 6040)\n",
      "Confounder data shape: (3706, 6040)\n"
     ]
    },
    {
     "name": "stderr",
     "output_type": "stream",
     "text": [
      "Training: 100%|██████████| 30/30 [01:46<00:00,  3.56s/epoch, Loss=6.36e+4, RMSE=0.981, MAE=0.785]\n"
     ]
    },
    {
     "name": "stdout",
     "output_type": "stream",
     "text": [
      "| \u001b[0m8        \u001b[0m | \u001b[0m-0.9814  \u001b[0m | \u001b[0m12.19    \u001b[0m | \u001b[0m0.2826   \u001b[0m | \u001b[0m1.399    \u001b[0m | \u001b[0m2.465    \u001b[0m |\n",
      "Train set size: 800169 ratings\n",
      "Validation set size: 100022 ratings\n",
      "Test set size: 100022 ratings\n",
      "1000213\n",
      "1000213\n",
      "Load data finished. Number of users: 6040 Number of items: 3706\n",
      "UAutoRec with Confounder.\n",
      "Train data processed shape: (3706, 6040)\n",
      "Confounder data shape: (3706, 6040)\n"
     ]
    },
    {
     "name": "stderr",
     "output_type": "stream",
     "text": [
      "Training: 100%|██████████| 30/30 [02:34<00:00,  5.14s/epoch, Loss=3.66e+4, RMSE=0.907, MAE=0.716]\n"
     ]
    },
    {
     "name": "stdout",
     "output_type": "stream",
     "text": [
      "| \u001b[0m9        \u001b[0m | \u001b[0m-0.9069  \u001b[0m | \u001b[0m485.7    \u001b[0m | \u001b[0m4.967    \u001b[0m | \u001b[0m2.982    \u001b[0m | \u001b[0m2.617    \u001b[0m |\n",
      "Train set size: 800169 ratings\n",
      "Validation set size: 100022 ratings\n",
      "Test set size: 100022 ratings\n",
      "1000213\n",
      "1000213\n",
      "Load data finished. Number of users: 6040 Number of items: 3706\n",
      "UAutoRec with Confounder.\n",
      "Train data processed shape: (3706, 6040)\n",
      "Confounder data shape: (3706, 6040)\n"
     ]
    },
    {
     "name": "stderr",
     "output_type": "stream",
     "text": [
      "Training: 100%|██████████| 30/30 [02:12<00:00,  4.42s/epoch, Loss=4.85e+4, RMSE=0.916, MAE=0.724]\n"
     ]
    },
    {
     "name": "stdout",
     "output_type": "stream",
     "text": [
      "| \u001b[0m10       \u001b[0m | \u001b[0m-0.9157  \u001b[0m | \u001b[0m241.0    \u001b[0m | \u001b[0m1.123    \u001b[0m | \u001b[0m2.406    \u001b[0m | \u001b[0m0.6755   \u001b[0m |\n",
      "Train set size: 800169 ratings\n",
      "Validation set size: 100022 ratings\n",
      "Test set size: 100022 ratings\n",
      "1000213\n",
      "1000213\n",
      "Load data finished. Number of users: 6040 Number of items: 3706\n",
      "UAutoRec with Confounder.\n",
      "Train data processed shape: (3706, 6040)\n",
      "Confounder data shape: (3706, 6040)\n"
     ]
    },
    {
     "name": "stderr",
     "output_type": "stream",
     "text": [
      "Training: 100%|██████████| 30/30 [02:38<00:00,  5.28s/epoch, Loss=6.88e+4, RMSE=0.951, MAE=0.761]\n"
     ]
    },
    {
     "name": "stdout",
     "output_type": "stream",
     "text": [
      "| \u001b[0m11       \u001b[0m | \u001b[0m-0.9513  \u001b[0m | \u001b[0m469.8    \u001b[0m | \u001b[0m4.944    \u001b[0m | \u001b[0m1.35     \u001b[0m | \u001b[0m6.989    \u001b[0m |\n",
      "Train set size: 800169 ratings\n",
      "Validation set size: 100022 ratings\n",
      "Test set size: 100022 ratings\n",
      "1000213\n",
      "1000213\n",
      "Load data finished. Number of users: 6040 Number of items: 3706\n",
      "UAutoRec with Confounder.\n",
      "Train data processed shape: (3706, 6040)\n",
      "Confounder data shape: (3706, 6040)\n"
     ]
    },
    {
     "name": "stderr",
     "output_type": "stream",
     "text": [
      "Training: 100%|██████████| 30/30 [02:10<00:00,  4.35s/epoch, Loss=5.1e+4, RMSE=0.915, MAE=0.725] \n"
     ]
    },
    {
     "name": "stdout",
     "output_type": "stream",
     "text": [
      "| \u001b[0m12       \u001b[0m | \u001b[0m-0.9153  \u001b[0m | \u001b[0m193.5    \u001b[0m | \u001b[0m6.963    \u001b[0m | \u001b[0m2.047    \u001b[0m | \u001b[0m3.905    \u001b[0m |\n",
      "Train set size: 800169 ratings\n",
      "Validation set size: 100022 ratings\n",
      "Test set size: 100022 ratings\n",
      "1000213\n",
      "1000213\n",
      "Load data finished. Number of users: 6040 Number of items: 3706\n",
      "UAutoRec with Confounder.\n",
      "Train data processed shape: (3706, 6040)\n",
      "Confounder data shape: (3706, 6040)\n"
     ]
    },
    {
     "name": "stderr",
     "output_type": "stream",
     "text": [
      "Training: 100%|██████████| 30/30 [02:16<00:00,  4.55s/epoch, Loss=4.76e+4, RMSE=0.894, MAE=0.706]\n"
     ]
    },
    {
     "name": "stdout",
     "output_type": "stream",
     "text": [
      "| \u001b[0m13       \u001b[0m | \u001b[0m-0.8937  \u001b[0m | \u001b[0m194.9    \u001b[0m | \u001b[0m5.751    \u001b[0m | \u001b[0m2.464    \u001b[0m | \u001b[0m4.137    \u001b[0m |\n",
      "Train set size: 800169 ratings\n",
      "Validation set size: 100022 ratings\n",
      "Test set size: 100022 ratings\n",
      "1000213\n",
      "1000213\n",
      "Load data finished. Number of users: 6040 Number of items: 3706\n",
      "UAutoRec with Confounder.\n",
      "Train data processed shape: (3706, 6040)\n",
      "Confounder data shape: (3706, 6040)\n"
     ]
    },
    {
     "name": "stderr",
     "output_type": "stream",
     "text": [
      "Training: 100%|██████████| 30/30 [02:24<00:00,  4.82s/epoch, Loss=8.48e+4, RMSE=1.02, MAE=0.82] \n"
     ]
    },
    {
     "name": "stdout",
     "output_type": "stream",
     "text": [
      "| \u001b[0m14       \u001b[0m | \u001b[0m-1.022   \u001b[0m | \u001b[0m193.3    \u001b[0m | \u001b[0m5.107    \u001b[0m | \u001b[0m2.35     \u001b[0m | \u001b[0m6.534    \u001b[0m |\n",
      "Train set size: 800169 ratings\n",
      "Validation set size: 100022 ratings\n",
      "Test set size: 100022 ratings\n",
      "1000213\n",
      "1000213\n",
      "Load data finished. Number of users: 6040 Number of items: 3706\n",
      "UAutoRec with Confounder.\n",
      "Train data processed shape: (3706, 6040)\n",
      "Confounder data shape: (3706, 6040)\n"
     ]
    },
    {
     "name": "stderr",
     "output_type": "stream",
     "text": [
      "Training: 100%|██████████| 30/30 [02:08<00:00,  4.27s/epoch, Loss=5.08e+4, RMSE=0.917, MAE=0.727]\n"
     ]
    },
    {
     "name": "stdout",
     "output_type": "stream",
     "text": [
      "| \u001b[0m15       \u001b[0m | \u001b[0m-0.9171  \u001b[0m | \u001b[0m193.9    \u001b[0m | \u001b[0m4.971    \u001b[0m | \u001b[0m2.851    \u001b[0m | \u001b[0m3.518    \u001b[0m |\n",
      "Train set size: 800169 ratings\n",
      "Validation set size: 100022 ratings\n",
      "Test set size: 100022 ratings\n",
      "1000213\n",
      "1000213\n",
      "Load data finished. Number of users: 6040 Number of items: 3706\n",
      "UAutoRec with Confounder.\n",
      "Train data processed shape: (3706, 6040)\n",
      "Confounder data shape: (3706, 6040)\n"
     ]
    },
    {
     "name": "stderr",
     "output_type": "stream",
     "text": [
      "Training: 100%|██████████| 30/30 [02:08<00:00,  4.28s/epoch, Loss=6.38e+4, RMSE=0.983, MAE=0.785]\n"
     ]
    },
    {
     "name": "stdout",
     "output_type": "stream",
     "text": [
      "| \u001b[0m16       \u001b[0m | \u001b[0m-0.9834  \u001b[0m | \u001b[0m194.4    \u001b[0m | \u001b[0m5.142    \u001b[0m | \u001b[0m1.045    \u001b[0m | \u001b[0m3.559    \u001b[0m |\n",
      "Train set size: 800169 ratings\n",
      "Validation set size: 100022 ratings\n",
      "Test set size: 100022 ratings\n",
      "1000213\n",
      "1000213\n",
      "Load data finished. Number of users: 6040 Number of items: 3706\n",
      "UAutoRec with Confounder.\n",
      "Train data processed shape: (3706, 6040)\n",
      "Confounder data shape: (3706, 6040)\n"
     ]
    },
    {
     "name": "stderr",
     "output_type": "stream",
     "text": [
      "Training: 100%|██████████| 30/30 [02:32<00:00,  5.08s/epoch, Loss=3.6e+4, RMSE=0.906, MAE=0.716] \n"
     ]
    },
    {
     "name": "stdout",
     "output_type": "stream",
     "text": [
      "| \u001b[0m17       \u001b[0m | \u001b[0m-0.9062  \u001b[0m | \u001b[0m485.4    \u001b[0m | \u001b[0m3.667    \u001b[0m | \u001b[0m2.318    \u001b[0m | \u001b[0m2.926    \u001b[0m |\n",
      "Train set size: 800169 ratings\n",
      "Validation set size: 100022 ratings\n",
      "Test set size: 100022 ratings\n",
      "1000213\n",
      "1000213\n",
      "Load data finished. Number of users: 6040 Number of items: 3706\n",
      "UAutoRec with Confounder.\n",
      "Train data processed shape: (3706, 6040)\n",
      "Confounder data shape: (3706, 6040)\n"
     ]
    },
    {
     "name": "stderr",
     "output_type": "stream",
     "text": [
      "Training: 100%|██████████| 30/30 [02:47<00:00,  5.58s/epoch, Loss=3.69e+4, RMSE=0.902, MAE=0.713]\n"
     ]
    },
    {
     "name": "stdout",
     "output_type": "stream",
     "text": [
      "| \u001b[0m18       \u001b[0m | \u001b[0m-0.9021  \u001b[0m | \u001b[0m484.3    \u001b[0m | \u001b[0m4.671    \u001b[0m | \u001b[0m2.824    \u001b[0m | \u001b[0m3.676    \u001b[0m |\n",
      "Train set size: 800169 ratings\n",
      "Validation set size: 100022 ratings\n",
      "Test set size: 100022 ratings\n",
      "1000213\n",
      "1000213\n",
      "Load data finished. Number of users: 6040 Number of items: 3706\n",
      "UAutoRec with Confounder.\n",
      "Train data processed shape: (3706, 6040)\n",
      "Confounder data shape: (3706, 6040)\n"
     ]
    },
    {
     "name": "stderr",
     "output_type": "stream",
     "text": [
      "Training: 100%|██████████| 30/30 [02:30<00:00,  5.03s/epoch, Loss=5.65e+4, RMSE=0.938, MAE=0.747]\n"
     ]
    },
    {
     "name": "stdout",
     "output_type": "stream",
     "text": [
      "| \u001b[0m19       \u001b[0m | \u001b[0m-0.938   \u001b[0m | \u001b[0m485.0    \u001b[0m | \u001b[0m5.431    \u001b[0m | \u001b[0m1.587    \u001b[0m | \u001b[0m2.558    \u001b[0m |\n",
      "Train set size: 800169 ratings\n",
      "Validation set size: 100022 ratings\n",
      "Test set size: 100022 ratings\n",
      "1000213\n",
      "1000213\n",
      "Load data finished. Number of users: 6040 Number of items: 3706\n",
      "UAutoRec with Confounder.\n",
      "Train data processed shape: (3706, 6040)\n",
      "Confounder data shape: (3706, 6040)\n"
     ]
    },
    {
     "name": "stderr",
     "output_type": "stream",
     "text": [
      "Training: 100%|██████████| 30/30 [02:32<00:00,  5.09s/epoch, Loss=3.7e+4, RMSE=0.908, MAE=0.718] \n"
     ]
    },
    {
     "name": "stdout",
     "output_type": "stream",
     "text": [
      "| \u001b[0m20       \u001b[0m | \u001b[0m-0.9085  \u001b[0m | \u001b[0m484.7    \u001b[0m | \u001b[0m4.234    \u001b[0m | \u001b[0m2.979    \u001b[0m | \u001b[0m1.257    \u001b[0m |\n",
      "Train set size: 800169 ratings\n",
      "Validation set size: 100022 ratings\n",
      "Test set size: 100022 ratings\n",
      "1000213\n",
      "1000213\n",
      "Load data finished. Number of users: 6040 Number of items: 3706\n",
      "UAutoRec with Confounder.\n",
      "Train data processed shape: (3706, 6040)\n",
      "Confounder data shape: (3706, 6040)\n"
     ]
    },
    {
     "name": "stderr",
     "output_type": "stream",
     "text": [
      "Training: 100%|██████████| 30/30 [02:28<00:00,  4.95s/epoch, Loss=1.72e+5, RMSE=1.03, MAE=0.817] \n"
     ]
    },
    {
     "name": "stdout",
     "output_type": "stream",
     "text": [
      "| \u001b[0m21       \u001b[0m | \u001b[0m-1.028   \u001b[0m | \u001b[0m486.0    \u001b[0m | \u001b[0m4.265    \u001b[0m | \u001b[0m3.0      \u001b[0m | \u001b[0m4.788    \u001b[0m |\n",
      "Train set size: 800169 ratings\n",
      "Validation set size: 100022 ratings\n",
      "Test set size: 100022 ratings\n",
      "1000213\n",
      "1000213\n",
      "Load data finished. Number of users: 6040 Number of items: 3706\n",
      "UAutoRec with Confounder.\n",
      "Train data processed shape: (3706, 6040)\n",
      "Confounder data shape: (3706, 6040)\n"
     ]
    },
    {
     "name": "stderr",
     "output_type": "stream",
     "text": [
      "Training: 100%|██████████| 30/30 [02:30<00:00,  5.00s/epoch, Loss=3.73e+4, RMSE=0.907, MAE=0.717]\n"
     ]
    },
    {
     "name": "stdout",
     "output_type": "stream",
     "text": [
      "| \u001b[0m22       \u001b[0m | \u001b[0m-0.9073  \u001b[0m | \u001b[0m483.8    \u001b[0m | \u001b[0m4.852    \u001b[0m | \u001b[0m2.466    \u001b[0m | \u001b[0m2.716    \u001b[0m |\n",
      "Train set size: 800169 ratings\n",
      "Validation set size: 100022 ratings\n",
      "Test set size: 100022 ratings\n",
      "1000213\n",
      "1000213\n",
      "Load data finished. Number of users: 6040 Number of items: 3706\n",
      "UAutoRec with Confounder.\n",
      "Train data processed shape: (3706, 6040)\n",
      "Confounder data shape: (3706, 6040)\n"
     ]
    },
    {
     "name": "stderr",
     "output_type": "stream",
     "text": [
      "Training: 100%|██████████| 30/30 [02:22<00:00,  4.74s/epoch, Loss=6.02e+4, RMSE=0.907, MAE=0.72] \n"
     ]
    },
    {
     "name": "stdout",
     "output_type": "stream",
     "text": [
      "| \u001b[0m23       \u001b[0m | \u001b[0m-0.9073  \u001b[0m | \u001b[0m194.9    \u001b[0m | \u001b[0m6.88     \u001b[0m | \u001b[0m2.612    \u001b[0m | \u001b[0m5.223    \u001b[0m |\n",
      "Train set size: 800169 ratings\n",
      "Validation set size: 100022 ratings\n",
      "Test set size: 100022 ratings\n",
      "1000213\n",
      "1000213\n",
      "Load data finished. Number of users: 6040 Number of items: 3706\n",
      "UAutoRec with Confounder.\n",
      "Train data processed shape: (3706, 6040)\n",
      "Confounder data shape: (3706, 6040)\n"
     ]
    },
    {
     "name": "stderr",
     "output_type": "stream",
     "text": [
      "Training: 100%|██████████| 30/30 [02:28<00:00,  4.94s/epoch, Loss=5.63e+4, RMSE=0.936, MAE=0.742]\n"
     ]
    },
    {
     "name": "stdout",
     "output_type": "stream",
     "text": [
      "| \u001b[0m24       \u001b[0m | \u001b[0m-0.9356  \u001b[0m | \u001b[0m484.2    \u001b[0m | \u001b[0m2.555    \u001b[0m | \u001b[0m1.68     \u001b[0m | \u001b[0m1.873    \u001b[0m |\n",
      "Train set size: 800169 ratings\n",
      "Validation set size: 100022 ratings\n",
      "Test set size: 100022 ratings\n",
      "1000213\n",
      "1000213\n",
      "Load data finished. Number of users: 6040 Number of items: 3706\n",
      "UAutoRec with Confounder.\n",
      "Train data processed shape: (3706, 6040)\n",
      "Confounder data shape: (3706, 6040)\n"
     ]
    },
    {
     "name": "stderr",
     "output_type": "stream",
     "text": [
      "Training: 100%|██████████| 30/30 [02:08<00:00,  4.27s/epoch, Loss=4.9e+4, RMSE=0.895, MAE=0.71]  \n"
     ]
    },
    {
     "name": "stdout",
     "output_type": "stream",
     "text": [
      "| \u001b[0m25       \u001b[0m | \u001b[0m-0.8948  \u001b[0m | \u001b[0m196.7    \u001b[0m | \u001b[0m6.216    \u001b[0m | \u001b[0m2.897    \u001b[0m | \u001b[0m4.526    \u001b[0m |\n",
      "=========================================================================\n",
      "Best parameters: {'learning_rate': 0.01, 'reg_rate': 1, 'hidden_neuron': 193, 'k': 50}\n"
     ]
    }
   ],
   "source": [
    "# Define the parameter space\n",
    "pbounds = {\n",
    "    'learning_rate': (0, 3),\n",
    "    'reg_rate': (0, 7),\n",
    "    'hidden_neuron': (10, 500),  # You can adjust this as needed\n",
    "    'k_idx': (0, 7)  # Indexes for k values\n",
    "}\n",
    "# Optimize for UAutoRec1conf\n",
    "optimizer_urec1conf = BayesianOptimization(\n",
    "    f=objective_urec1conf,\n",
    "    pbounds=pbounds,\n",
    "    random_state=42\n",
    ")\n",
    "\n",
    "optimizer_urec1conf.maximize(init_points=5, n_iter=20)\n",
    "\n",
    "best_params = optimizer_urec1conf.max['params']\n",
    "\n",
    "best_params_decoded = {\n",
    "    'learning_rate': [0.0001, 0.001, 0.01, 0.1][int(best_params['learning_rate'])],\n",
    "    'reg_rate': [0.001, 0.001, 0.01, 0.1, 1, 10, 100, 1000][int(best_params['reg_rate'])],\n",
    "    'hidden_neuron': int(best_params['hidden_neuron']),\n",
    "    'k': [1, 2, 5, 10, 20, 32, 50, 100][int(best_params['k_idx'])]\n",
    "}\n",
    "\n",
    "print(\"Best parameters:\", best_params_decoded)\n",
    "\n",
    "#Training: 100%|██████████| 30/30 [02:27<00:00,  4.91s/epoch, Loss=4.74e+4, RMSE=0.893, MAE=0.705]\n",
    "# | 1         | -0.8926   | 193.5     | 6.655     | 2.196     | 4.191     |"
   ]
  },
  {
   "cell_type": "code",
   "execution_count": 30,
   "metadata": {},
   "outputs": [
    {
     "name": "stdout",
     "output_type": "stream",
     "text": [
      "Train set size: 800169 ratings\n",
      "Validation set size: 100022 ratings\n",
      "Test set size: 100022 ratings\n",
      "1000213\n",
      "1000213\n",
      "Load data finished. Number of users: 6040 Number of items: 3706\n",
      "UAutoRec with Confounder.\n",
      "Train data processed shape: (3706, 6040)\n",
      "Confounder data shape: (3706, 6040)\n"
     ]
    },
    {
     "name": "stderr",
     "output_type": "stream",
     "text": [
      "Training: 100%|██████████| 80/80 [05:58<00:00,  4.48s/epoch, Loss=3.44e+4, RMSE=0.963, MAE=0.763]\n"
     ]
    }
   ],
   "source": [
    "def run_model(module_name, class_name, k, dat='ml', include_validation=False, use_confounder=False, use_exposure=False, test_size=0.1, val_size=0.1, hidden_neuron=500, learning_rate=0.001, reg_rate=0.1, epoch=20, batch_size=200, verbose=False, T=1, display_step=1000, save_path=None):\n",
    "    train, test, vad, user, item = load_data_rating(dat, columns=[0, 1, 2], sep=\"\\t\", include_validation=include_validation, test_size=test_size, val_size=val_size)\n",
    "\n",
    "    confounder_data = None\n",
    "    exposure_data = None\n",
    "\n",
    "    if use_confounder:\n",
    "        # Load confounder data\n",
    "        confounder_data = load_confounders(dat, k)\n",
    "    if use_exposure:\n",
    "        # Create exposure matrix\n",
    "        exposure_data = (train > 0).astype(np.float32).todense().T\n",
    "    \n",
    "    config = tf.compat.v1.ConfigProto()\n",
    "    config.gpu_options.allow_growth = True\n",
    "\n",
    "    with tf.compat.v1.Session(config=config) as sess:\n",
    "        # Dynamically import the module and create an instance of the chosen class\n",
    "        module = importlib.import_module(module_name)\n",
    "        model_class = getattr(module, class_name)\n",
    "        final_model = model_class(sess, user, item, learning_rate=learning_rate, reg_rate=reg_rate, epoch=epoch, batch_size=batch_size, verbose=verbose, T=T, display_step=display_step)\n",
    "\n",
    "        final_model.build_network(hidden_neuron=hidden_neuron)\n",
    "        \n",
    "        # Determine how many arguments to pass to the execute function\n",
    "        if confounder_data is not None and exposure_data is not None:\n",
    "            final_model.execute(train, test, confounder_data, exposure_data)\n",
    "        elif confounder_data is not None:\n",
    "            final_model.execute(train, test, confounder_data)\n",
    "        else:\n",
    "            final_model.execute(train, test)\n",
    "\n",
    "        # Save the training and test RMSE values\n",
    "        if save_path:\n",
    "            class_folder = os.path.join(save_path, class_name.lower())\n",
    "            os.makedirs(class_folder, exist_ok=True)\n",
    "\n",
    "            train_loss_file = os.path.join(class_folder, f'TUNED_train_loss_bayesian_{dat}_k{k}.npy')\n",
    "            test_rmse_file = os.path.join(class_folder, f'TUNED_test_rmse_bayesian_{dat}_k{k}.npy')\n",
    "\n",
    "\n",
    "            np.save(train_loss_file, np.array(final_model.train_loss_history))\n",
    "            np.save(test_rmse_file, np.array(final_model.test_rmse_history))\n",
    "\n",
    "\n",
    "# Best parameters: {'learning_rate': 0.01, 'reg_rate': 1, 'hidden_neuron': 193, 'k': 50} this was the long one 30 epochs 20 it and 5 random init\n",
    "# Best parameters for UAutoRec1conf in detailed form: {'learning_rate': 0.00654788977303255, 'reg_rate': 1, 'hidden_neuron': 100, 'k': 100} \n",
    "# Best parameters for UAutoRec1conf in detailed form: {'learning_rate': 0.000934753482, 'reg_rate': 1, 'hidden_neuron': 100, 'k': 50}\n",
    "\n",
    "    \n",
    "result_path = 'C:/Users/Sten Stokroos/Desktop/NEW/zelf/results'\n",
    "run_model('urec_1_conf', 'UAutoRec1conf', best_params_decoded['k'], dat='ml', include_validation=False, use_confounder=True, use_exposure=False, \n",
    "          hidden_neuron= best_params_decoded['hidden_neuron'], \n",
    "          learning_rate= best_params_decoded['learning_rate'], \n",
    "          reg_rate=best_params_decoded['reg_rate'], \n",
    "          batch_size=500, epoch=80, save_path = result_path)\n",
    "\n",
    "\n"
   ]
  },
  {
   "cell_type": "code",
   "execution_count": null,
   "metadata": {},
   "outputs": [],
   "source": []
  }
 ],
 "metadata": {
  "kernelspec": {
   "display_name": "auto",
   "language": "python",
   "name": "python3"
  },
  "language_info": {
   "codemirror_mode": {
    "name": "ipython",
    "version": 3
   },
   "file_extension": ".py",
   "mimetype": "text/x-python",
   "name": "python",
   "nbconvert_exporter": "python",
   "pygments_lexer": "ipython3",
   "version": "3.7.12"
  }
 },
 "nbformat": 4,
 "nbformat_minor": 2
}
