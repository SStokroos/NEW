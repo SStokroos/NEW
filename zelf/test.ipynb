{
 "cells": [
  {
   "cell_type": "code",
   "execution_count": 6,
   "metadata": {},
   "outputs": [],
   "source": [
    "import pandas as pd\n",
    "import numpy as np\n",
    "from tqdm import tqdm"
   ]
  },
  {
   "cell_type": "code",
   "execution_count": 10,
   "metadata": {},
   "outputs": [
    {
     "name": "stderr",
     "output_type": "stream",
     "text": [
      "Reading CSV files:   0%|          | 0/7 [00:00<?, ?it/s]"
     ]
    },
    {
     "name": "stderr",
     "output_type": "stream",
     "text": [
      "Reading CSV files:  29%|██▊       | 2/7 [00:00<00:00, 10.01it/s]"
     ]
    },
    {
     "name": "stdout",
     "output_type": "stream",
     "text": [
      "Reconstructed Matrix for k=1: shape (15400, 1000)\n",
      "Reconstructed Matrix for k=2: shape (15400, 1000)\n"
     ]
    },
    {
     "name": "stderr",
     "output_type": "stream",
     "text": [
      "Reading CSV files:  57%|█████▋    | 4/7 [00:00<00:00,  7.89it/s]"
     ]
    },
    {
     "name": "stdout",
     "output_type": "stream",
     "text": [
      "Reconstructed Matrix for k=5: shape (15400, 1000)\n",
      "Reconstructed Matrix for k=10: shape (15400, 1000)\n"
     ]
    },
    {
     "name": "stderr",
     "output_type": "stream",
     "text": [
      "Reading CSV files:  71%|███████▏  | 5/7 [00:00<00:00,  6.21it/s]"
     ]
    },
    {
     "name": "stdout",
     "output_type": "stream",
     "text": [
      "Reconstructed Matrix for k=20: shape (15400, 1000)\n"
     ]
    },
    {
     "name": "stderr",
     "output_type": "stream",
     "text": [
      "Reading CSV files:  86%|████████▌ | 6/7 [00:01<00:00,  4.26it/s]"
     ]
    },
    {
     "name": "stdout",
     "output_type": "stream",
     "text": [
      "Reconstructed Matrix for k=50: shape (15400, 1000)\n"
     ]
    },
    {
     "name": "stderr",
     "output_type": "stream",
     "text": [
      "Reading CSV files: 100%|██████████| 7/7 [00:01<00:00,  3.91it/s]"
     ]
    },
    {
     "name": "stdout",
     "output_type": "stream",
     "text": [
      "Reconstructed Matrix for k=100: shape (15400, 1000)\n"
     ]
    },
    {
     "name": "stderr",
     "output_type": "stream",
     "text": [
      "\n"
     ]
    }
   ],
   "source": [
    "base_dir = \"C:/Users/Sten Stokroos/Desktop/zelf/dat/out/R3_wg_Afit\"\n",
    "dataframesU = {}\n",
    "dataframesV = {}\n",
    "reconstr_cau = {}\n",
    "\n",
    "ks = [1, 2, 5, 10, 20, 50, 100]\n",
    "\n",
    "for k in tqdm(ks, desc=\"Reading CSV files\"):\n",
    "    file_path_U = f\"{base_dir}/cause_pmf_k{k}_U.csv\"\n",
    "    file_path_V = f\"{base_dir}/cause_pmf_k{k}_V.csv\"  # Adjusted to the correct file for V\n",
    "\n",
    "    # Ensure data is read as floating point numbers\n",
    "    dataframesU[k] = pd.read_csv(file_path_U, header=None, dtype=float, delimiter= ' ')\n",
    "    dataframesV[k] = pd.read_csv(file_path_V, header=None, dtype=float, delimiter= ' ')\n",
    "\n",
    "    # Matrix multiplication and transpose V matrix\n",
    "    reconstr_cau[k] = dataframesU[k].dot(dataframesV[k].transpose())\n",
    "\n",
    "    # Print the shape of the reconstructed matrix\n",
    "    print(f\"Reconstructed Matrix for k={k}: shape {reconstr_cau[k].shape}\")\n",
    "\n",
    "    # Optionally, you can also print the matrix itself, but this can be large\n",
    "    # print(reconstr_cau[k])\n",
    "\n"
   ]
  },
  {
   "cell_type": "code",
   "execution_count": 12,
   "metadata": {},
   "outputs": [
    {
     "ename": "ModuleNotFoundError",
     "evalue": "No module named 'Dataset'",
     "output_type": "error",
     "traceback": [
      "\u001b[1;31m---------------------------------------------------------------------------\u001b[0m",
      "\u001b[1;31mModuleNotFoundError\u001b[0m                       Traceback (most recent call last)",
      "Cell \u001b[1;32mIn[12], line 1\u001b[0m\n\u001b[1;32m----> 1\u001b[0m \u001b[38;5;28;01mfrom\u001b[39;00m \u001b[38;5;21;01mDataset\u001b[39;00m \u001b[38;5;28;01mimport\u001b[39;00m Dataset\n\u001b[0;32m      3\u001b[0m dataset \u001b[38;5;241m=\u001b[39m Dataset(args\u001b[38;5;241m.\u001b[39mpath \u001b[38;5;241m+\u001b[39m args\u001b[38;5;241m.\u001b[39mdataset)\n\u001b[0;32m      4\u001b[0m train, testRatings, testNegatives \u001b[38;5;241m=\u001b[39m dataset\u001b[38;5;241m.\u001b[39mtrainMatrix, dataset\u001b[38;5;241m.\u001b[39mtestRatings, dataset\u001b[38;5;241m.\u001b[39mtestNegatives\n",
      "\u001b[1;31mModuleNotFoundError\u001b[0m: No module named 'Dataset'"
     ]
    }
   ],
   "source": [
    "from Dataset import Dataset\n",
    "\n",
    "dataset = Dataset(args.path + args.dataset)\n",
    "train, testRatings, testNegatives = dataset.trainMatrix, dataset.testRatings, dataset.testNegatives\n",
    "\n"
   ]
  },
  {
   "cell_type": "code",
   "execution_count": null,
   "metadata": {},
   "outputs": [],
   "source": [
    "\u001f�\b"
   ]
  }
 ],
 "metadata": {
  "kernelspec": {
   "display_name": "base",
   "language": "python",
   "name": "python3"
  },
  "language_info": {
   "codemirror_mode": {
    "name": "ipython",
    "version": 3
   },
   "file_extension": ".py",
   "mimetype": "text/x-python",
   "name": "python",
   "nbconvert_exporter": "python",
   "pygments_lexer": "ipython3",
   "version": "3.11.7"
  }
 },
 "nbformat": 4,
 "nbformat_minor": 2
}
