{
 "cells": [
  {
   "cell_type": "code",
   "execution_count": 2,
   "metadata": {},
   "outputs": [
    {
     "name": "stdout",
     "output_type": "stream",
     "text": [
      "random seed:  26499506\n",
      "<bound method NDFrame.head of         UserId  ItemId  Count\n",
      "0            0      32      4\n",
      "1            0      34      4\n",
      "2            0       4      5\n",
      "3            0      35      4\n",
      "4            0      30      4\n",
      "...        ...     ...    ...\n",
      "994166    6039    1092      5\n",
      "994167    6039      41      4\n",
      "994168    6039     128      5\n",
      "994169    6039     323      4\n",
      "994170    6039     669      4\n",
      "\n",
      "[994171 rows x 3 columns]>\n"
     ]
    }
   ],
   "source": [
    "import os\n",
    "import numpy as np\n",
    "import pandas as pd\n",
    "from hpfrec import HPF\n",
    "from scipy import sparse\n",
    "\n",
    "# Set random seed for reproducibility\n",
    "randseed = 26499506\n",
    "print(\"random seed: \", randseed)\n",
    "np.random.seed(randseed)\n",
    "\n",
    "DATA_DIR = 'C:/Users/Sten Stokroos/Desktop/zelf/neural_collaborative_filtering/Data'\n",
    "\n",
    "\n",
    "\n",
    "train_df = pd.read_csv(os.path.join(DATA_DIR, 'ml-1m.train.rating'), sep=\"\\t\", header=None, names=['userId', 'songId', 'rating'], usecols=[0, 1, 2], engine=\"python\")\n",
    "test_df = pd.read_csv(os.path.join(DATA_DIR, 'ml-1m.test.rating'), sep=\"\\t\", header=None, names=['userId', 'songId', 'rating'], usecols=[0, 1, 2], engine=\"python\")\n",
    "\n",
    "# Rename columns to 'UserId', 'ItemId', 'Count'\n",
    "train_df = train_df.rename(columns={'userId': 'UserId', 'songId': 'ItemId', 'rating': 'Count'})\n",
    "test_df = test_df.rename(columns={'userId': 'UserId', 'songId': 'ItemId', 'rating': 'Count'})\n",
    "\n",
    "print(train_df.head)\n",
    "\n"
   ]
  },
  {
   "cell_type": "code",
   "execution_count": 3,
   "metadata": {},
   "outputs": [
    {
     "name": "stdout",
     "output_type": "stream",
     "text": [
      "**********************************\n",
      "Hierarchical Poisson Factorization\n",
      "**********************************\n",
      "\n",
      "Number of users: 6040\n",
      "Number of items: 3706\n",
      "Latent factors to use: 30\n",
      "\n",
      "Initializing parameters...\n",
      "Allocating Phi matrix...\n",
      "Initializing optimization procedure...\n",
      "Iteration 10 | train llk: -2884687 | train rmse: 0.7964\n",
      "Iteration 20 | train llk: -2554191 | train rmse: 0.7387\n",
      "Iteration 30 | train llk: -2390420 | train rmse: 0.6958\n",
      "Iteration 40 | train llk: -2359765 | train rmse: 0.6890\n",
      "Iteration 50 | train llk: -2347088 | train rmse: 0.6862\n",
      "Iteration 60 | train llk: -2340591 | train rmse: 0.6849\n",
      "Iteration 70 | train llk: -2336932 | train rmse: 0.6842\n",
      "Iteration 80 | train llk: -2334743 | train rmse: 0.6838\n",
      "\n",
      "\n",
      "Optimization finished\n",
      "Final log-likelihood: -2334743\n",
      "Final RMSE: 0.6838\n",
      "Minutes taken (optimization part): 0.9\n",
      "\n",
      "Exposure matrix saved to exposure_matrix.csv\n"
     ]
    }
   ],
   "source": [
    "\n",
    "# Convert ratings to binary exposure data (1 if Count > 0, else 0)\n",
    "train_df['Count'] = (train_df['Count'] > 0).astype(int)\n",
    "test_df['Count'] = (test_df['Count'] > 0).astype(int)\n",
    "\n",
    "# Initialize and fit the HPF model\n",
    "recommender = HPF(\n",
    "    k=30, a=0.3, a_prime=0.3, b_prime=1.0,\n",
    "    c=0.3, c_prime=0.3, d_prime=1.0, ncores=-1,\n",
    "    stop_crit='train-llk', check_every=10, stop_thr=1e-4,\n",
    "    users_per_batch=None, items_per_batch=None, step_size=lambda x: 1/np.sqrt(x+2),\n",
    "    maxiter=100, use_float=True, reindex=False, verbose=True,\n",
    "    random_seed=None, allow_inconsistent_math=False, full_llk=False,\n",
    "    alloc_full_phi=False, keep_data=True, save_folder=None,\n",
    "    produce_dicts=True, keep_all_objs=True, sum_exp_trick=False\n",
    ")\n",
    "\n",
    "# Fit the model to the training data\n",
    "recommender.fit(train_df)\n",
    "\n",
    "# Get unique user and item IDs\n",
    "user_ids = train_df['UserId'].unique()\n",
    "item_ids = train_df['ItemId'].unique()\n",
    "\n",
    "# Initialize an empty matrix for exposures\n",
    "exposure_matrix = np.zeros((len(user_ids), len(item_ids)))\n",
    "\n",
    "# Predict the exposure data for all user-item pairs\n",
    "for i, user in enumerate(user_ids):\n",
    "    exposures = recommender.predict(user=[user] * len(item_ids), item=item_ids)\n",
    "    exposure_matrix[i, :] = exposures\n",
    "\n",
    "# Convert the exposure matrix to a DataFrame\n",
    "exposure_df = pd.DataFrame(exposure_matrix, index=user_ids, columns=item_ids)\n",
    "\n",
    "# Save the exposure matrix to a CSV file\n",
    "exposure_df.to_csv('C:/Users/Sten Stokroos/Desktop/Thesis2.0/zelf/xposure_matrix.csv',index = False, header = False )\n",
    "\n",
    "print(\"Exposure matrix saved to exposure_matrix.csv\")"
   ]
  },
  {
   "cell_type": "code",
   "execution_count": 5,
   "metadata": {},
   "outputs": [
    {
     "name": "stdout",
     "output_type": "stream",
     "text": [
      "random seed:  26499506\n",
      "Training HPF model with k=1...\n",
      "**********************************\n",
      "Hierarchical Poisson Factorization\n",
      "**********************************\n",
      "\n",
      "Number of users: 6040\n",
      "Number of items: 3706\n",
      "Latent factors to use: 1\n",
      "\n",
      "Initializing parameters...\n",
      "Allocating Phi matrix...\n",
      "Initializing optimization procedure...\n",
      "Iteration 10 | train llk: -2883692 | train rmse: 0.7956\n",
      "Iteration 20 | train llk: -2883692 | train rmse: 0.7956\n",
      "\n",
      "\n",
      "Optimization finished\n",
      "Final log-likelihood: -2883692\n",
      "Final RMSE: 0.7956\n",
      "Minutes taken (optimization part): 0.0\n",
      "\n"
     ]
    },
    {
     "name": "stderr",
     "output_type": "stream",
     "text": [
      "100%|██████████| 6040/6040 [00:40<00:00, 147.97it/s]\n"
     ]
    },
    {
     "name": "stdout",
     "output_type": "stream",
     "text": [
      "Average NDCG for k=1: 0.2550067626327217\n",
      "Training HPF model with k=5...\n",
      "**********************************\n",
      "Hierarchical Poisson Factorization\n",
      "**********************************\n",
      "\n",
      "Number of users: 6040\n",
      "Number of items: 3706\n",
      "Latent factors to use: 5\n",
      "\n",
      "Initializing parameters...\n",
      "Allocating Phi matrix...\n",
      "Initializing optimization procedure...\n",
      "Iteration 10 | train llk: -2883082 | train rmse: 0.7956\n",
      "Iteration 20 | train llk: -2730768 | train rmse: 0.7727\n",
      "Iteration 30 | train llk: -2626921 | train rmse: 0.7554\n",
      "Iteration 40 | train llk: -2615375 | train rmse: 0.7524\n",
      "Iteration 50 | train llk: -2611931 | train rmse: 0.7509\n",
      "Iteration 60 | train llk: -2610368 | train rmse: 0.7501\n",
      "\n",
      "\n",
      "Optimization finished\n",
      "Final log-likelihood: -2610368\n",
      "Final RMSE: 0.7501\n",
      "Minutes taken (optimization part): 0.2\n",
      "\n"
     ]
    },
    {
     "name": "stderr",
     "output_type": "stream",
     "text": [
      "100%|██████████| 6040/6040 [00:41<00:00, 147.02it/s]\n"
     ]
    },
    {
     "name": "stdout",
     "output_type": "stream",
     "text": [
      "Average NDCG for k=5: 0.29895081983109023\n",
      "Training HPF model with k=50...\n",
      "**********************************\n",
      "Hierarchical Poisson Factorization\n",
      "**********************************\n",
      "\n",
      "Number of users: 6040\n",
      "Number of items: 3706\n",
      "Latent factors to use: 50\n",
      "\n",
      "Initializing parameters...\n",
      "Allocating Phi matrix...\n",
      "Initializing optimization procedure...\n",
      "Iteration 10 | train llk: -2887237 | train rmse: 0.7968\n",
      "Iteration 20 | train llk: -2518603 | train rmse: 0.7296\n",
      "Iteration 30 | train llk: -2352815 | train rmse: 0.6871\n",
      "Iteration 40 | train llk: -2329587 | train rmse: 0.6815\n",
      "Iteration 50 | train llk: -2323306 | train rmse: 0.6802\n",
      "Iteration 60 | train llk: -2321365 | train rmse: 0.6799\n",
      "\n",
      "\n",
      "Optimization finished\n",
      "Final log-likelihood: -2321365\n",
      "Final RMSE: 0.6799\n",
      "Minutes taken (optimization part): 1.5\n",
      "\n"
     ]
    },
    {
     "name": "stderr",
     "output_type": "stream",
     "text": [
      "100%|██████████| 6040/6040 [00:42<00:00, 141.90it/s]\n"
     ]
    },
    {
     "name": "stdout",
     "output_type": "stream",
     "text": [
      "Average NDCG for k=50: 0.3774453141423828\n",
      "Training HPF model with k=100...\n",
      "**********************************\n",
      "Hierarchical Poisson Factorization\n",
      "**********************************\n",
      "\n",
      "Number of users: 6040\n",
      "Number of items: 3706\n",
      "Latent factors to use: 100\n",
      "\n",
      "Initializing parameters...\n",
      "Allocating Phi matrix...\n",
      "Initializing optimization procedure...\n",
      "Iteration 10 | train llk: -2892835 | train rmse: 0.7973\n",
      "Iteration 20 | train llk: -2485320 | train rmse: 0.7182\n",
      "Iteration 30 | train llk: -2367721 | train rmse: 0.6874\n",
      "Iteration 40 | train llk: -2354620 | train rmse: 0.6842\n",
      "Iteration 50 | train llk: -2350100 | train rmse: 0.6833\n",
      "Iteration 60 | train llk: -2346190 | train rmse: 0.6826\n",
      "Iteration 70 | train llk: -2343864 | train rmse: 0.6823\n",
      "\n",
      "\n",
      "Optimization finished\n",
      "Final log-likelihood: -2343864\n",
      "Final RMSE: 0.6823\n",
      "Minutes taken (optimization part): 3.2\n",
      "\n"
     ]
    },
    {
     "name": "stderr",
     "output_type": "stream",
     "text": [
      "100%|██████████| 6040/6040 [00:39<00:00, 152.28it/s]\n"
     ]
    },
    {
     "name": "stdout",
     "output_type": "stream",
     "text": [
      "Average NDCG for k=100: 0.377439790666001\n"
     ]
    },
    {
     "data": {
      "image/png": "[encoded data removed]",
      "text/plain": [
       "<Figure size 1000x600 with 1 Axes>"
      ]
     },
     "metadata": {},
     "output_type": "display_data"
    },
    {
     "name": "stdout",
     "output_type": "stream",
     "text": [
      "Performance results saved to performance_results.csv\n"
     ]
    }
   ],
   "source": [
    "import os\n",
    "import numpy as np\n",
    "import pandas as pd\n",
    "from hpfrec import HPF\n",
    "import heapq\n",
    "import math\n",
    "import matplotlib.pyplot as plt\n",
    "from tqdm import tqdm\n",
    "\n",
    "# Set random seed for reproducibility\n",
    "randseed = 26499506\n",
    "print(\"random seed: \", randseed)\n",
    "np.random.seed(randseed)\n",
    "\n",
    "DATA_DIR = 'C:/Users/Sten Stokroos/Desktop/zelf/neural_collaborative_filtering/Data'\n",
    "\n",
    "train_df = pd.read_csv(os.path.join(DATA_DIR, 'ml-1m.train.rating'), sep=\"\\t\", header=None, names=['userId', 'songId', 'rating'], usecols=[0, 1, 2], engine=\"python\")\n",
    "test_df = pd.read_csv(os.path.join(DATA_DIR, 'ml-1m.test.rating'), sep=\"\\t\", header=None, names=['userId', 'songId', 'rating'], usecols=[0, 1, 2], engine=\"python\")\n",
    "\n",
    "# Rename columns to 'UserId', 'ItemId', 'Count'\n",
    "train_df = train_df.rename(columns={'userId': 'UserId', 'songId': 'ItemId', 'rating': 'Count'})\n",
    "test_df = test_df.rename(columns={'userId': 'UserId', 'songId': 'ItemId', 'rating': 'Count'})\n",
    "\n",
    "# Convert ratings to binary exposure data (1 if Count > 0, else 0)\n",
    "train_df['Count'] = (train_df['Count'] > 0).astype(int)\n",
    "test_df['Count'] = (test_df['Count'] > 0).astype(int)\n",
    "\n",
    "# Get unique user and item IDs\n",
    "user_ids = train_df['UserId'].unique()\n",
    "item_ids = train_df['ItemId'].unique()\n",
    "num_users = len(user_ids)\n",
    "num_items = len(item_ids)\n",
    "\n",
    "# Combine train and test to get all observed items for each user\n",
    "all_observed_df = pd.concat([train_df, test_df])\n",
    "\n",
    "# Define evaluation functions\n",
    "def getNDCG(ranklist, gtItem):\n",
    "    for i in range(len(ranklist)):\n",
    "        item = ranklist[i]\n",
    "        if item == gtItem:\n",
    "            return math.log(2) / math.log(i + 2)\n",
    "    return 0\n",
    "\n",
    "def eval_one_rating(idx, model, test_ratings, topk, all_items, all_observed_df, num_negatives=100):\n",
    "    rating = test_ratings[idx]\n",
    "    user = rating[0]\n",
    "    gtItem = rating[1]\n",
    "    \n",
    "    # Get all items this user has observed\n",
    "    observed_items = all_observed_df[all_observed_df['UserId'] == user]['ItemId'].tolist()\n",
    "    \n",
    "    # Generate negative samples: items the user has not interacted with\n",
    "    negative_samples = list(np.random.choice(list(set(all_items) - set(observed_items)), num_negatives, replace=False))\n",
    "    negative_samples.append(gtItem)\n",
    "    \n",
    "    # Get prediction scores\n",
    "    map_item_score = {}\n",
    "    users = np.full(len(negative_samples), user, dtype='int32')\n",
    "    predictions = model.predict(user=users, item=np.array(negative_samples))\n",
    "    \n",
    "    for i in range(len(negative_samples)):\n",
    "        item = negative_samples[i]\n",
    "        map_item_score[item] = predictions[i]\n",
    "\n",
    "    # Evaluate top rank list\n",
    "    ranklist = heapq.nlargest(topk, map_item_score, key=map_item_score.get)\n",
    "    ndcg = getNDCG(ranklist, gtItem)\n",
    "    return ndcg\n",
    "\n",
    "# Values of k to evaluate\n",
    "k_values = [1, 5, 50, 100]\n",
    "performance = []\n",
    "\n",
    "# Prepare test ratings\n",
    "test_ratings = test_df[['UserId', 'ItemId']].values.tolist()\n",
    "\n",
    "for k in k_values:\n",
    "    print(f\"Training HPF model with k={k}...\")\n",
    "    recommender = HPF(\n",
    "        k=k, a=0.3, a_prime=0.3, b_prime=1.0,\n",
    "        c=0.3, c_prime=0.3, d_prime=1.0, ncores=-1,\n",
    "        stop_crit='train-llk', check_every=10, stop_thr=1e-3,\n",
    "        users_per_batch=None, items_per_batch=None, step_size=lambda x: 1/np.sqrt(x+2),\n",
    "        maxiter=100, use_float=True, reindex=False, verbose=True,\n",
    "        random_seed=None, allow_inconsistent_math=False, full_llk=False,\n",
    "        alloc_full_phi=False, keep_data=True, save_folder=None,\n",
    "        produce_dicts=True, keep_all_objs=True, sum_exp_trick=False\n",
    "    )\n",
    "\n",
    "    # Fit the model to the training data\n",
    "    recommender.fit(train_df)\n",
    "    topk = 10\n",
    "    # Evaluate the model using NDCG\n",
    "    ndcg_scores = [eval_one_rating(i, recommender, test_ratings, topk, item_ids, all_observed_df) for i in tqdm(range(len(test_ratings)))]\n",
    "    avg_ndcg = np.mean(ndcg_scores)\n",
    "    performance.append(avg_ndcg)\n",
    "    print(f\"Average NDCG for k={k}: {avg_ndcg}\")\n",
    "\n",
    "# Plot the performance\n",
    "plt.figure(figsize=(10, 6))\n",
    "plt.plot(k_values, performance, marker='o')\n",
    "plt.xlabel('Number of Latent Factors (k)')\n",
    "plt.ylabel('Average NDCG')\n",
    "plt.title('Performance of HPF Model at Different Values of k')\n",
    "plt.grid(True)\n",
    "plt.show()\n",
    "\n",
    "# Optional: Save the performance results to a CSV file\n",
    "performance_df = pd.DataFrame({'k': k_values, 'avg_ndcg': performance})\n",
    "performance_df.to_csv('C:/Users/Sten Stokroos/Desktop/Thesis2.0/zelf/performance_results.csv', index=False)\n",
    "\n",
    "print(\"Performance results saved to performance_results.csv\")\n"
   ]
  },
  {
   "cell_type": "code",
   "execution_count": 1,
   "metadata": {},
   "outputs": [
    {
     "ename": "SyntaxError",
     "evalue": "invalid syntax (3384023181.py, line 1)",
     "output_type": "error",
     "traceback": [
      "\u001b[1;36m  Cell \u001b[1;32mIn[1], line 1\u001b[1;36m\u001b[0m\n\u001b[1;33m    End. Best Iteration 1:  HR = 0.5467, NDCG = 0.3111.\u001b[0m\n\u001b[1;37m              ^\u001b[0m\n\u001b[1;31mSyntaxError\u001b[0m\u001b[1;31m:\u001b[0m invalid syntax\n"
     ]
    }
   ],
   "source": [
    "# #rating > 3\n",
    "\n",
    "# #2 expchs, no confounders\n",
    "\n",
    "# End. Best Iteration 1:  HR = 0.5467, NDCG = 0.3111.\n",
    "\n",
    "# #2 epochs with confounders\n",
    "\n",
    "# End. Best Iteration 1:  HR = 0.5177, NDCG = 0.2926."
   ]
  },
  {
   "cell_type": "code",
   "execution_count": 1,
   "metadata": {},
   "outputs": [
    {
     "name": "stdout",
     "output_type": "stream",
     "text": [
      "Number of available CPU cores: 12\n"
     ]
    }
   ],
   "source": [
    "#Rating > 0\n",
    "\n",
    "#with confouners\n",
    "# End. Best Iteration 1:  HR = 0.6070, NDCG = 0.3575.\n",
    "#wihtout confounders\n",
    "#End. Best Iteration 1:  HR = 0.6258, NDCG = 0.3601.\n",
    "\n",
    "import multiprocessing\n",
    "evaluation_threads = multiprocessing.cpu_count()\n",
    "print(f\"Number of available CPU cores: {evaluation_threads}\")\n"
   ]
  },
  {
   "cell_type": "code",
   "execution_count": null,
   "metadata": {},
   "outputs": [],
   "source": []
  }
 ],
 "metadata": {
  "kernelspec": {
   "display_name": "base",
   "language": "python",
   "name": "python3"
  },
  "language_info": {
   "codemirror_mode": {
    "name": "ipython",
    "version": 3
   },
   "file_extension": ".py",
   "mimetype": "text/x-python",
   "name": "python",
   "nbconvert_exporter": "python",
   "pygments_lexer": "ipython3",
   "version": "3.11.7"
  }
 },
 "nbformat": 4,
 "nbformat_minor": 2
}
