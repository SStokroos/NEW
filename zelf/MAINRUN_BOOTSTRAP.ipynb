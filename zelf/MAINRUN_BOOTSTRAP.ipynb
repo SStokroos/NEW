{
 "cells": [
  {
   "cell_type": "code",
   "execution_count": 2,
   "metadata": {},
   "outputs": [
    {
     "name": "stdout",
     "output_type": "stream",
     "text": [
      "random seed:  42\n"
     ]
    }
   ],
   "source": [
    "import tensorflow as tf\n",
    "import time\n",
    "import numpy as np\n",
    "import pandas as pd\n",
    "from sklearn.model_selection import train_test_split\n",
    "from scipy.sparse import csr_matrix\n",
    "from tqdm import tqdm\n",
    "from hyperopt import hp, fmin, tpe, Trials, STATUS_OK\n",
    "import os\n",
    "import importlib\n",
    "\n",
    "dir_ml = 'C:/Users/Sten Stokroos/Desktop/NEW/zelf/Data/out'\n",
    "randseed = 42\n",
    "print(\"random seed: \", randseed)\n",
    "np.random.seed(randseed)\n",
    "\n",
    "def choose_data(dat, test_size, val_size):\n",
    "    if dat == 'ml2':\n",
    "        train = pd.read_csv(os.path.join(dir_ml, 'ml_train2.csv'), sep=\"\\t\", header=None, names=['userId', 'songId', 'rating'], usecols=[0, 1, 2], engine=\"python\")\n",
    "        test = pd.read_csv(os.path.join(dir_ml, 'ml_test2.csv'), sep=\"\\t\", header=None, names=['userId', 'songId', 'rating'], usecols=[0, 1, 2], engine=\"python\")\n",
    "        val = None  # Assuming no validation set for 'ml2'\n",
    "        user_ids = train['userId'].unique()\n",
    "        item_ids = train['songId'].unique()\n",
    "        n_users = len(user_ids)\n",
    "        n_items = len(item_ids)\n",
    "    elif dat == 'ml':\n",
    "        ml_full = pd.read_csv(os.path.join(dir_ml, 'ml-1m_full.csv'), sep=\"\\t\", header=None, names=['userId', 'songId', 'rating'], usecols=[0, 1, 2], engine=\"python\")\n",
    "        user_ids = ml_full['userId'].unique()\n",
    "        item_ids = ml_full['songId'].unique()\n",
    "        n_users = len(user_ids)\n",
    "        n_items = len(item_ids)\n",
    "        train, test = train_test_split(ml_full, test_size=test_size, random_state=42)\n",
    "    else:\n",
    "        print('Wrong data input')\n",
    "        return None, None, None, None, None\n",
    "\n",
    "    print(f\"Train set size: {train.shape[0]} ratings\")\n",
    "    print(f\"Test set size: {test.shape[0]} ratings\")\n",
    "    return train, test, n_users, n_items\n",
    "\n",
    "def load_confounders(dat, k, contype):\n",
    "    CAUSEFIT_DIR = f'C:/Users/Sten Stokroos/Desktop/NEW/zelf/Data/exposure_output/{dat}_exp_k_{k}.csv'\n",
    "    conf_df = pd.read_csv(CAUSEFIT_DIR, header=None)\n",
    "    confounder_data = conf_df.to_numpy().T\n",
    "    return confounder_data\n",
    "\n",
    "def load_data_rating(dat, columns=[0, 1, 2], sep=\"\\t\", include_validation=False, test_size=0.1, val_size=0.1):\n",
    "    train, test, n_users, n_items = choose_data(dat, test_size, val_size)\n",
    "\n",
    "\n",
    "\n",
    "\n",
    "    def build_matrix(df):\n",
    "        rows = []\n",
    "        cols = []\n",
    "        ratings = []\n",
    "        for line in df.itertuples():\n",
    "            rows.append(line[1])\n",
    "            cols.append(line[2])\n",
    "            ratings.append(line[3])\n",
    "        return csr_matrix((ratings, (rows, cols)), shape=(n_users, n_items)).todok()\n",
    "\n",
    "    train_matrix = build_matrix(train)\n",
    "    test_matrix = build_matrix(test)\n",
    "\n",
    "\n",
    "\n",
    "    print(\"Load data finished. Number of users:\", n_users, \"Number of items:\", n_items)\n",
    "    return train_matrix, test_matrix, n_users, n_items\n",
    "\n",
    "def run_model(module_name, class_name, k, contype='hpf', dat='ml', use_confounder=False, use_exposure=False, test_size=0.1, val_size=0.1, \n",
    "              hidden_neuron=500, learning_rate=0.001, reg_rate=0.1, epoch=20, batch_size=200, verbose=False, T=1, display_step=1000, save_path=None, num_runs=5):\n",
    "    \n",
    "    train, test, n_users, n_items = load_data_rating(dat, columns=[0, 1, 2], sep=\"\\t\", test_size=test_size, val_size=val_size)\n",
    "    \n",
    "    print(f\"Loaded data: train={train.shape}, test={test.shape}, user={n_users}, item={n_items}\")\n",
    "\n",
    "    confounder_data = None\n",
    "    exposure_data = None\n",
    "\n",
    "    if use_confounder:\n",
    "        confounder_data = load_confounders(dat, k, contype)\n",
    "    if use_exposure:\n",
    "        exposure_data = (train > 0).astype(np.float32).todense().T\n",
    "\n",
    "    config = tf.compat.v1.ConfigProto()\n",
    "    config.gpu_options.allow_growth = True\n",
    "\n",
    "    avg_train_loss_history = []\n",
    "    avg_test_rmse_history = []\n",
    "\n",
    "    for run in range(num_runs):\n",
    "        with tf.compat.v1.Session(config=config) as sess:\n",
    "            module = importlib.import_module(module_name)\n",
    "            model_class = getattr(module, class_name)\n",
    "\n",
    "            final_model = model_class(sess, n_users, n_items, learning_rate=learning_rate, reg_rate=reg_rate, epoch=epoch, batch_size=batch_size, verbose=verbose, T=T, display_step=display_step)\n",
    "            final_model.build_network(hidden_neuron=hidden_neuron)\n",
    "            \n",
    "            if confounder_data is not None and exposure_data is not None:\n",
    "                final_model.execute(train, test, confounder_data, exposure_data)\n",
    "            elif confounder_data is not None:\n",
    "                final_model.execute(train, test, confounder_data)\n",
    "            else:\n",
    "                final_model.execute(train, test)\n",
    "\n",
    "            if run == 0:\n",
    "                avg_train_loss_history = np.array(final_model.train_loss_history)\n",
    "                avg_test_rmse_history = np.array(final_model.test_rmse_history)\n",
    "            else:\n",
    "                avg_train_loss_history += np.array(final_model.train_loss_history)\n",
    "                avg_test_rmse_history += np.array(final_model.test_rmse_history)\n",
    "\n",
    "            if save_path:\n",
    "                class_folder = os.path.join(save_path, class_name.lower())\n",
    "                os.makedirs(class_folder, exist_ok=True)\n",
    "                np.save(os.path.join(class_folder, f'{contype}{epoch}_run_{run}_train_loss_{dat}_k{k}.npy'), np.array(final_model.train_loss_history))\n",
    "                np.save(os.path.join(class_folder, f'{contype}{epoch}_run_{run}_test_rmse_{dat}_k{k}.npy'), np.array(final_model.test_rmse_history))\n",
    "\n",
    "    avg_train_loss_history /= num_runs\n",
    "    avg_test_rmse_history /= num_runs\n",
    "\n",
    "    if save_path:\n",
    "        class_folder = os.path.join(save_path, class_name.lower())\n",
    "        np.save(os.path.join(class_folder, f'{contype}{epoch}_average_train_loss_{dat}_k{k}.npy'), avg_train_loss_history)\n",
    "        np.save(os.path.join(class_folder, f'{contype}{epoch}_average_test_rmse_{dat}_k{k}.npy'), avg_test_rmse_history)\n",
    "\n",
    "    print(f\"Average Final RMSE: {avg_test_rmse_history[-1]}, Average Final Train Loss: {avg_train_loss_history[-1]}\")\n",
    "\n",
    "    \n"
   ]
  },
  {
   "cell_type": "code",
   "execution_count": 3,
   "metadata": {},
   "outputs": [
    {
     "name": "stdout",
     "output_type": "stream",
     "text": [
      "Running UAutoRec with k=32, use_confounder=False, use_exposure=False\n",
      "Train set size: 994173 ratings\n",
      "Test set size: 6040 ratings\n",
      "Load data finished. Number of users: 6040 Number of items: 3706\n",
      "Loaded data: train=(6040, 3706), test=(6040, 3706), user=6040, item=3706\n",
      "UAutoRec.\n"
     ]
    },
    {
     "name": "stderr",
     "output_type": "stream",
     "text": [
      "Training:   0%|          | 1/200 [09:36<31:50:43, 576.10s/epoch, Loss=3.52e+4, RMSE=0.991, MAE=0.801]\n"
     ]
    },
    {
     "name": "stdout",
     "output_type": "stream",
     "text": [
      "UAutoRec.\n"
     ]
    },
    {
     "name": "stderr",
     "output_type": "stream",
     "text": [
      "Training:   0%|          | 1/200 [08:52<29:25:51, 532.42s/epoch, Loss=4e+4, RMSE=0.972, MAE=0.784]\n"
     ]
    },
    {
     "name": "stdout",
     "output_type": "stream",
     "text": [
      "UAutoRec.\n"
     ]
    },
    {
     "name": "stderr",
     "output_type": "stream",
     "text": [
      "Training:   0%|          | 1/200 [07:24<24:35:35, 444.90s/epoch, Loss=3.48e+4, RMSE=0.992, MAE=0.801]\n"
     ]
    },
    {
     "name": "stdout",
     "output_type": "stream",
     "text": [
      "UAutoRec.\n"
     ]
    },
    {
     "name": "stderr",
     "output_type": "stream",
     "text": [
      "Training:   0%|          | 1/200 [07:44<25:41:37, 464.81s/epoch, Loss=4.08e+4, RMSE=0.972, MAE=0.784]\n"
     ]
    },
    {
     "name": "stdout",
     "output_type": "stream",
     "text": [
      "UAutoRec.\n"
     ]
    },
    {
     "name": "stderr",
     "output_type": "stream",
     "text": [
      "Training:   0%|          | 1/200 [07:24<24:33:30, 444.27s/epoch, Loss=4.22e+4, RMSE=0.97, MAE=0.782]\n"
     ]
    },
    {
     "name": "stdout",
     "output_type": "stream",
     "text": [
      "Average Final RMSE: 0.9794307729595573, Average Final Train Loss: 38619.227840909094\n",
      "Completed UAutoRec with k=32\n",
      "Running UAutoRec1conf with k=32, use_confounder=True, use_exposure=False\n",
      "Train set size: 994173 ratings\n",
      "Test set size: 6040 ratings\n",
      "Load data finished. Number of users: 6040 Number of items: 3706\n",
      "Loaded data: train=(6040, 3706), test=(6040, 3706), user=6040, item=3706\n",
      "UAutoRec with Confounder.\n",
      "Train data processed shape: (3706, 6040)\n",
      "Confounder data shape: (3706, 6040)\n"
     ]
    },
    {
     "name": "stderr",
     "output_type": "stream",
     "text": [
      "Training: 100%|██████████| 200/200 [09:42<00:00,  2.91s/epoch, Loss=1.69e+4, RMSE=1.12, MAE=0.908] \n"
     ]
    },
    {
     "name": "stdout",
     "output_type": "stream",
     "text": [
      "UAutoRec with Confounder.\n",
      "Train data processed shape: (3706, 6040)\n",
      "Confounder data shape: (3706, 6040)\n"
     ]
    },
    {
     "name": "stderr",
     "output_type": "stream",
     "text": [
      "Training: 100%|██████████| 200/200 [11:18<00:00,  3.39s/epoch, Loss=1.64e+4, RMSE=1.14, MAE=0.93]  \n"
     ]
    },
    {
     "name": "stdout",
     "output_type": "stream",
     "text": [
      "UAutoRec with Confounder.\n",
      "Train data processed shape: (3706, 6040)\n",
      "Confounder data shape: (3706, 6040)\n"
     ]
    },
    {
     "name": "stderr",
     "output_type": "stream",
     "text": [
      "Training: 100%|██████████| 200/200 [10:17<00:00,  3.09s/epoch, Loss=1.67e+4, RMSE=1.12, MAE=0.918] \n"
     ]
    },
    {
     "name": "stdout",
     "output_type": "stream",
     "text": [
      "UAutoRec with Confounder.\n",
      "Train data processed shape: (3706, 6040)\n",
      "Confounder data shape: (3706, 6040)\n"
     ]
    },
    {
     "name": "stderr",
     "output_type": "stream",
     "text": [
      "Training: 100%|██████████| 200/200 [11:15<00:00,  3.38s/epoch, Loss=1.7e+4, RMSE=1.13, MAE=0.927]  \n"
     ]
    },
    {
     "name": "stdout",
     "output_type": "stream",
     "text": [
      "UAutoRec with Confounder.\n",
      "Train data processed shape: (3706, 6040)\n",
      "Confounder data shape: (3706, 6040)\n"
     ]
    },
    {
     "name": "stderr",
     "output_type": "stream",
     "text": [
      "Training: 100%|██████████| 200/200 [11:21<00:00,  3.41s/epoch, Loss=1.65e+4, RMSE=1.14, MAE=0.929] \n"
     ]
    },
    {
     "name": "stdout",
     "output_type": "stream",
     "text": [
      "Average Final RMSE: 1.1306764713391655, Average Final Train Loss: 16708.97121803977\n",
      "Completed UAutoRec1conf with k=32\n",
      "Running UAutoRec1confexp with k=32, use_confounder=True, use_exposure=True\n",
      "Train set size: 994173 ratings\n",
      "Test set size: 6040 ratings\n",
      "Load data finished. Number of users: 6040 Number of items: 3706\n",
      "Loaded data: train=(6040, 3706), test=(6040, 3706), user=6040, item=3706\n",
      "UAutoRec with Confounder and Exposure.\n",
      "Train data processed shape: (3706, 6040)\n",
      "Confounder data shape: (3706, 6040)\n"
     ]
    },
    {
     "name": "stderr",
     "output_type": "stream",
     "text": [
      "Training: 100%|██████████| 200/200 [14:30<00:00,  4.35s/epoch, Loss=1.72e+4, RMSE=1.15, MAE=0.947] \n"
     ]
    },
    {
     "name": "stdout",
     "output_type": "stream",
     "text": [
      "UAutoRec with Confounder and Exposure.\n",
      "Train data processed shape: (3706, 6040)\n",
      "Confounder data shape: (3706, 6040)\n"
     ]
    },
    {
     "name": "stderr",
     "output_type": "stream",
     "text": [
      "Training: 100%|██████████| 200/200 [13:10<00:00,  3.95s/epoch, Loss=1.64e+4, RMSE=1.15, MAE=0.945] \n"
     ]
    },
    {
     "name": "stdout",
     "output_type": "stream",
     "text": [
      "UAutoRec with Confounder and Exposure.\n",
      "Train data processed shape: (3706, 6040)\n",
      "Confounder data shape: (3706, 6040)\n"
     ]
    },
    {
     "name": "stderr",
     "output_type": "stream",
     "text": [
      "Training: 100%|██████████| 200/200 [13:13<00:00,  3.97s/epoch, Loss=1.49e+4, RMSE=1.12, MAE=0.911] \n"
     ]
    },
    {
     "name": "stdout",
     "output_type": "stream",
     "text": [
      "UAutoRec with Confounder and Exposure.\n",
      "Train data processed shape: (3706, 6040)\n",
      "Confounder data shape: (3706, 6040)\n"
     ]
    },
    {
     "name": "stderr",
     "output_type": "stream",
     "text": [
      "Training: 100%|██████████| 200/200 [13:13<00:00,  3.97s/epoch, Loss=1.54e+4, RMSE=1.11, MAE=0.905] \n"
     ]
    },
    {
     "name": "stdout",
     "output_type": "stream",
     "text": [
      "UAutoRec with Confounder and Exposure.\n",
      "Train data processed shape: (3706, 6040)\n",
      "Confounder data shape: (3706, 6040)\n"
     ]
    },
    {
     "name": "stderr",
     "output_type": "stream",
     "text": [
      "Training: 100%|██████████| 200/200 [13:55<00:00,  4.18s/epoch, Loss=1.52e+4, RMSE=1.12, MAE=0.918] \n"
     ]
    },
    {
     "name": "stdout",
     "output_type": "stream",
     "text": [
      "Average Final RMSE: 1.1316611410116346, Average Final Train Loss: 15808.594424715911\n",
      "Completed UAutoRec1confexp with k=32\n",
      "Running UAutoRec2conf with k=32, use_confounder=True, use_exposure=False\n",
      "Train set size: 994173 ratings\n",
      "Test set size: 6040 ratings\n",
      "Load data finished. Number of users: 6040 Number of items: 3706\n",
      "Loaded data: train=(6040, 3706), test=(6040, 3706), user=6040, item=3706\n",
      "UAutoRec with Confounder.\n"
     ]
    },
    {
     "name": "stderr",
     "output_type": "stream",
     "text": [
      "Training: 100%|██████████| 200/200 [12:11<00:00,  3.66s/epoch, Loss=3.51e+4, RMSE=0.978, MAE=0.791]\n"
     ]
    },
    {
     "name": "stdout",
     "output_type": "stream",
     "text": [
      "UAutoRec with Confounder.\n"
     ]
    },
    {
     "name": "stderr",
     "output_type": "stream",
     "text": [
      "Training: 100%|██████████| 200/200 [11:43<00:00,  3.52s/epoch, Loss=3.75e+4, RMSE=0.977, MAE=0.788]\n"
     ]
    },
    {
     "name": "stdout",
     "output_type": "stream",
     "text": [
      "UAutoRec with Confounder.\n"
     ]
    },
    {
     "name": "stderr",
     "output_type": "stream",
     "text": [
      "Training: 100%|██████████| 200/200 [11:31<00:00,  3.46s/epoch, Loss=3.77e+4, RMSE=0.978, MAE=0.789]\n"
     ]
    },
    {
     "name": "stdout",
     "output_type": "stream",
     "text": [
      "UAutoRec with Confounder.\n"
     ]
    },
    {
     "name": "stderr",
     "output_type": "stream",
     "text": [
      "Training: 100%|██████████| 200/200 [10:36<00:00,  3.18s/epoch, Loss=3.68e+4, RMSE=0.977, MAE=0.79] \n"
     ]
    },
    {
     "name": "stdout",
     "output_type": "stream",
     "text": [
      "UAutoRec with Confounder.\n"
     ]
    },
    {
     "name": "stderr",
     "output_type": "stream",
     "text": [
      "Training: 100%|██████████| 200/200 [10:16<00:00,  3.08s/epoch, Loss=3.67e+4, RMSE=0.979, MAE=0.79] \n"
     ]
    },
    {
     "name": "stdout",
     "output_type": "stream",
     "text": [
      "Average Final RMSE: 0.9777684335237797, Average Final Train Loss: 36772.375532670456\n",
      "Completed UAutoRec2conf with k=32\n",
      "Running UAutoRec2confexp with k=32, use_confounder=True, use_exposure=True\n",
      "Train set size: 994173 ratings\n",
      "Test set size: 6040 ratings\n",
      "Load data finished. Number of users: 6040 Number of items: 3706\n",
      "Loaded data: train=(6040, 3706), test=(6040, 3706), user=6040, item=3706\n",
      "UAutoRec with Confounder and Exposure.\n"
     ]
    },
    {
     "name": "stderr",
     "output_type": "stream",
     "text": [
      "Training: 100%|██████████| 200/200 [12:59<00:00,  3.90s/epoch, Loss=3.19e+4, RMSE=0.982, MAE=0.789]\n"
     ]
    },
    {
     "name": "stdout",
     "output_type": "stream",
     "text": [
      "UAutoRec with Confounder and Exposure.\n"
     ]
    },
    {
     "name": "stderr",
     "output_type": "stream",
     "text": [
      "Training: 100%|██████████| 200/200 [12:58<00:00,  3.89s/epoch, Loss=3.35e+4, RMSE=0.978, MAE=0.79] \n"
     ]
    },
    {
     "name": "stdout",
     "output_type": "stream",
     "text": [
      "UAutoRec with Confounder and Exposure.\n"
     ]
    },
    {
     "name": "stderr",
     "output_type": "stream",
     "text": [
      "Training: 100%|██████████| 200/200 [13:11<00:00,  3.96s/epoch, Loss=3.21e+4, RMSE=0.988, MAE=0.799]\n"
     ]
    },
    {
     "name": "stdout",
     "output_type": "stream",
     "text": [
      "UAutoRec with Confounder and Exposure.\n"
     ]
    },
    {
     "name": "stderr",
     "output_type": "stream",
     "text": [
      "Training: 100%|██████████| 200/200 [12:56<00:00,  3.88s/epoch, Loss=3.34e+4, RMSE=0.985, MAE=0.797]\n"
     ]
    },
    {
     "name": "stdout",
     "output_type": "stream",
     "text": [
      "UAutoRec with Confounder and Exposure.\n"
     ]
    },
    {
     "name": "stderr",
     "output_type": "stream",
     "text": [
      "Training: 100%|██████████| 200/200 [13:00<00:00,  3.90s/epoch, Loss=3.13e+4, RMSE=0.991, MAE=0.804]\n"
     ]
    },
    {
     "name": "stdout",
     "output_type": "stream",
     "text": [
      "Average Final RMSE: 0.9848492319884125, Average Final Train Loss: 32434.197123579543\n",
      "Completed UAutoRec2confexp with k=32\n",
      "Running UAutoRec3conf with k=32, use_confounder=True, use_exposure=False\n",
      "Train set size: 994173 ratings\n",
      "Test set size: 6040 ratings\n",
      "Load data finished. Number of users: 6040 Number of items: 3706\n",
      "Loaded data: train=(6040, 3706), test=(6040, 3706), user=6040, item=3706\n",
      "UAutoRec with Confounder.\n"
     ]
    },
    {
     "name": "stderr",
     "output_type": "stream",
     "text": [
      "Training: 100%|██████████| 200/200 [09:00<00:00,  2.70s/epoch, Loss=3.78e+4, RMSE=0.975, MAE=0.787]\n"
     ]
    },
    {
     "name": "stdout",
     "output_type": "stream",
     "text": [
      "UAutoRec with Confounder.\n"
     ]
    },
    {
     "name": "stderr",
     "output_type": "stream",
     "text": [
      "Training: 100%|██████████| 200/200 [09:05<00:00,  2.73s/epoch, Loss=3.57e+4, RMSE=0.987, MAE=0.8]  \n"
     ]
    },
    {
     "name": "stdout",
     "output_type": "stream",
     "text": [
      "UAutoRec with Confounder.\n"
     ]
    },
    {
     "name": "stderr",
     "output_type": "stream",
     "text": [
      "Training: 100%|██████████| 200/200 [09:08<00:00,  2.74s/epoch, Loss=3.53e+4, RMSE=0.985, MAE=0.798]\n"
     ]
    },
    {
     "name": "stdout",
     "output_type": "stream",
     "text": [
      "UAutoRec with Confounder.\n"
     ]
    },
    {
     "name": "stderr",
     "output_type": "stream",
     "text": [
      "Training: 100%|██████████| 200/200 [09:10<00:00,  2.75s/epoch, Loss=3.95e+4, RMSE=0.967, MAE=0.779]\n"
     ]
    },
    {
     "name": "stdout",
     "output_type": "stream",
     "text": [
      "UAutoRec with Confounder.\n"
     ]
    },
    {
     "name": "stderr",
     "output_type": "stream",
     "text": [
      "Training: 100%|██████████| 200/200 [09:13<00:00,  2.77s/epoch, Loss=4.16e+4, RMSE=0.974, MAE=0.785]\n"
     ]
    },
    {
     "name": "stdout",
     "output_type": "stream",
     "text": [
      "Average Final RMSE: 0.9777315324500121, Average Final Train Loss: 38000.84879261364\n",
      "Completed UAutoRec3conf with k=32\n",
      "Running UAutoRec3confexp with k=32, use_confounder=True, use_exposure=True\n",
      "Train set size: 994173 ratings\n",
      "Test set size: 6040 ratings\n",
      "Load data finished. Number of users: 6040 Number of items: 3706\n",
      "Loaded data: train=(6040, 3706), test=(6040, 3706), user=6040, item=3706\n",
      "UAutoRec with Confounder and Exposure.\n"
     ]
    },
    {
     "name": "stderr",
     "output_type": "stream",
     "text": [
      "Training: 100%|██████████| 200/200 [11:38<00:00,  3.49s/epoch, Loss=3.61e+4, RMSE=0.968, MAE=0.777]\n"
     ]
    },
    {
     "name": "stdout",
     "output_type": "stream",
     "text": [
      "UAutoRec with Confounder and Exposure.\n"
     ]
    },
    {
     "name": "stderr",
     "output_type": "stream",
     "text": [
      "Training: 100%|██████████| 200/200 [12:07<00:00,  3.64s/epoch, Loss=3.79e+4, RMSE=0.977, MAE=0.79] \n"
     ]
    },
    {
     "name": "stdout",
     "output_type": "stream",
     "text": [
      "UAutoRec with Confounder and Exposure.\n"
     ]
    },
    {
     "name": "stderr",
     "output_type": "stream",
     "text": [
      "Training: 100%|██████████| 200/200 [11:18<00:00,  3.39s/epoch, Loss=3.44e+4, RMSE=0.987, MAE=0.799]\n"
     ]
    },
    {
     "name": "stdout",
     "output_type": "stream",
     "text": [
      "UAutoRec with Confounder and Exposure.\n"
     ]
    },
    {
     "name": "stderr",
     "output_type": "stream",
     "text": [
      "Training: 100%|██████████| 200/200 [11:29<00:00,  3.45s/epoch, Loss=3.38e+4, RMSE=0.988, MAE=0.8]  \n"
     ]
    },
    {
     "name": "stdout",
     "output_type": "stream",
     "text": [
      "UAutoRec with Confounder and Exposure.\n"
     ]
    },
    {
     "name": "stderr",
     "output_type": "stream",
     "text": [
      "Training: 100%|██████████| 200/200 [11:26<00:00,  3.43s/epoch, Loss=3.46e+4, RMSE=0.987, MAE=0.799]\n"
     ]
    },
    {
     "name": "stdout",
     "output_type": "stream",
     "text": [
      "Average Final RMSE: 0.9813866632417202, Average Final Train Loss: 35359.387535511356\n",
      "Completed UAutoRec3confexp with k=32\n",
      "Running UAutoRec with k=32, use_confounder=False, use_exposure=False\n",
      "Train set size: 994173 ratings\n",
      "Test set size: 6040 ratings\n",
      "Load data finished. Number of users: 6040 Number of items: 3706\n",
      "Loaded data: train=(6040, 3706), test=(6040, 3706), user=6040, item=3706\n",
      "UAutoRec.\n"
     ]
    },
    {
     "name": "stderr",
     "output_type": "stream",
     "text": [
      "Training:   0%|          | 1/200 [08:38<28:39:35, 518.47s/epoch, Loss=3.75e+4, RMSE=0.979, MAE=0.788]\n"
     ]
    },
    {
     "name": "stdout",
     "output_type": "stream",
     "text": [
      "UAutoRec.\n"
     ]
    },
    {
     "name": "stderr",
     "output_type": "stream",
     "text": [
      "Training:   0%|          | 1/200 [08:21<27:41:43, 501.02s/epoch, Loss=3.88e+4, RMSE=0.978, MAE=0.787]\n"
     ]
    },
    {
     "name": "stdout",
     "output_type": "stream",
     "text": [
      "UAutoRec.\n"
     ]
    },
    {
     "name": "stderr",
     "output_type": "stream",
     "text": [
      "Training:   0%|          | 1/200 [08:22<27:47:57, 502.90s/epoch, Loss=3.8e+4, RMSE=0.98, MAE=0.791]\n"
     ]
    },
    {
     "name": "stdout",
     "output_type": "stream",
     "text": [
      "UAutoRec.\n"
     ]
    },
    {
     "name": "stderr",
     "output_type": "stream",
     "text": [
      "Training:   0%|          | 1/200 [08:31<28:16:25, 511.48s/epoch, Loss=3.34e+4, RMSE=0.995, MAE=0.809]\n"
     ]
    },
    {
     "name": "stdout",
     "output_type": "stream",
     "text": [
      "UAutoRec.\n"
     ]
    },
    {
     "name": "stderr",
     "output_type": "stream",
     "text": [
      "Training:   0%|          | 1/200 [08:35<28:29:05, 515.30s/epoch, Loss=3.34e+4, RMSE=1, MAE=0.812]\n"
     ]
    },
    {
     "name": "stdout",
     "output_type": "stream",
     "text": [
      "Average Final RMSE: 0.986544549215737, Average Final Train Loss: 36217.61953125\n",
      "Completed UAutoRec with k=32\n",
      "Running UAutoRec1conf with k=32, use_confounder=True, use_exposure=False\n",
      "Train set size: 994173 ratings\n",
      "Test set size: 6040 ratings\n",
      "Load data finished. Number of users: 6040 Number of items: 3706\n",
      "Loaded data: train=(6040, 3706), test=(6040, 3706), user=6040, item=3706\n",
      "UAutoRec with Confounder.\n",
      "Train data processed shape: (3706, 6040)\n",
      "Confounder data shape: (3706, 6040)\n"
     ]
    },
    {
     "name": "stderr",
     "output_type": "stream",
     "text": [
      "Training: 100%|██████████| 200/200 [12:31<00:00,  3.76s/epoch, Loss=1.7e+4, RMSE=1.15, MAE=0.945]  \n"
     ]
    },
    {
     "name": "stdout",
     "output_type": "stream",
     "text": [
      "UAutoRec with Confounder.\n",
      "Train data processed shape: (3706, 6040)\n",
      "Confounder data shape: (3706, 6040)\n"
     ]
    },
    {
     "name": "stderr",
     "output_type": "stream",
     "text": [
      "Training: 100%|██████████| 200/200 [12:50<00:00,  3.85s/epoch, Loss=1.7e+4, RMSE=1.14, MAE=0.935]  \n"
     ]
    },
    {
     "name": "stdout",
     "output_type": "stream",
     "text": [
      "UAutoRec with Confounder.\n",
      "Train data processed shape: (3706, 6040)\n",
      "Confounder data shape: (3706, 6040)\n"
     ]
    },
    {
     "name": "stderr",
     "output_type": "stream",
     "text": [
      "Training: 100%|██████████| 200/200 [12:08<00:00,  3.64s/epoch, Loss=1.68e+4, RMSE=1.13, MAE=0.919] \n"
     ]
    },
    {
     "name": "stdout",
     "output_type": "stream",
     "text": [
      "UAutoRec with Confounder.\n",
      "Train data processed shape: (3706, 6040)\n",
      "Confounder data shape: (3706, 6040)\n"
     ]
    },
    {
     "name": "stderr",
     "output_type": "stream",
     "text": [
      "Training: 100%|██████████| 200/200 [12:06<00:00,  3.63s/epoch, Loss=1.68e+4, RMSE=1.13, MAE=0.927] \n"
     ]
    },
    {
     "name": "stdout",
     "output_type": "stream",
     "text": [
      "UAutoRec with Confounder.\n",
      "Train data processed shape: (3706, 6040)\n",
      "Confounder data shape: (3706, 6040)\n"
     ]
    },
    {
     "name": "stderr",
     "output_type": "stream",
     "text": [
      "Training: 100%|██████████| 200/200 [12:23<00:00,  3.72s/epoch, Loss=1.69e+4, RMSE=1.13, MAE=0.916] \n"
     ]
    },
    {
     "name": "stdout",
     "output_type": "stream",
     "text": [
      "Average Final RMSE: 1.137037696668516, Average Final Train Loss: 16898.5568359375\n",
      "Completed UAutoRec1conf with k=32\n",
      "Running UAutoRec1confexp with k=32, use_confounder=True, use_exposure=True\n",
      "Train set size: 994173 ratings\n",
      "Test set size: 6040 ratings\n",
      "Load data finished. Number of users: 6040 Number of items: 3706\n",
      "Loaded data: train=(6040, 3706), test=(6040, 3706), user=6040, item=3706\n",
      "UAutoRec with Confounder and Exposure.\n",
      "Train data processed shape: (3706, 6040)\n",
      "Confounder data shape: (3706, 6040)\n"
     ]
    },
    {
     "name": "stderr",
     "output_type": "stream",
     "text": [
      "Training: 100%|██████████| 200/200 [14:52<00:00,  4.46s/epoch, Loss=1.48e+4, RMSE=1.12, MAE=0.906] \n"
     ]
    },
    {
     "name": "stdout",
     "output_type": "stream",
     "text": [
      "UAutoRec with Confounder and Exposure.\n",
      "Train data processed shape: (3706, 6040)\n",
      "Confounder data shape: (3706, 6040)\n"
     ]
    },
    {
     "name": "stderr",
     "output_type": "stream",
     "text": [
      "Training: 100%|██████████| 200/200 [14:28<00:00,  4.34s/epoch, Loss=1.55e+4, RMSE=1.1, MAE=0.889]  \n"
     ]
    },
    {
     "name": "stdout",
     "output_type": "stream",
     "text": [
      "UAutoRec with Confounder and Exposure.\n",
      "Train data processed shape: (3706, 6040)\n",
      "Confounder data shape: (3706, 6040)\n"
     ]
    },
    {
     "name": "stderr",
     "output_type": "stream",
     "text": [
      "Training: 100%|██████████| 200/200 [14:55<00:00,  4.48s/epoch, Loss=1.46e+4, RMSE=1.13, MAE=0.917] \n"
     ]
    },
    {
     "name": "stdout",
     "output_type": "stream",
     "text": [
      "UAutoRec with Confounder and Exposure.\n",
      "Train data processed shape: (3706, 6040)\n",
      "Confounder data shape: (3706, 6040)\n"
     ]
    },
    {
     "name": "stderr",
     "output_type": "stream",
     "text": [
      "Training: 100%|██████████| 200/200 [15:08<00:00,  4.54s/epoch, Loss=1.52e+4, RMSE=1.1, MAE=0.895]  \n"
     ]
    },
    {
     "name": "stdout",
     "output_type": "stream",
     "text": [
      "UAutoRec with Confounder and Exposure.\n",
      "Train data processed shape: (3706, 6040)\n",
      "Confounder data shape: (3706, 6040)\n"
     ]
    },
    {
     "name": "stderr",
     "output_type": "stream",
     "text": [
      "Training: 100%|██████████| 200/200 [14:39<00:00,  4.40s/epoch, Loss=1.5e+4, RMSE=1.12, MAE=0.913]  \n"
     ]
    },
    {
     "name": "stdout",
     "output_type": "stream",
     "text": [
      "Average Final RMSE: 1.1117758209506738, Average Final Train Loss: 15023.727006392044\n",
      "Completed UAutoRec1confexp with k=32\n",
      "Running UAutoRec2conf with k=32, use_confounder=True, use_exposure=False\n",
      "Train set size: 994173 ratings\n",
      "Test set size: 6040 ratings\n",
      "Load data finished. Number of users: 6040 Number of items: 3706\n",
      "Loaded data: train=(6040, 3706), test=(6040, 3706), user=6040, item=3706\n",
      "UAutoRec with Confounder.\n"
     ]
    },
    {
     "name": "stderr",
     "output_type": "stream",
     "text": [
      "Training: 100%|██████████| 200/200 [11:43<00:00,  3.52s/epoch, Loss=3.72e+4, RMSE=0.977, MAE=0.79] \n"
     ]
    },
    {
     "name": "stdout",
     "output_type": "stream",
     "text": [
      "UAutoRec with Confounder.\n"
     ]
    },
    {
     "name": "stderr",
     "output_type": "stream",
     "text": [
      "Training: 100%|██████████| 200/200 [12:01<00:00,  3.61s/epoch, Loss=3.84e+4, RMSE=0.972, MAE=0.783]\n"
     ]
    },
    {
     "name": "stdout",
     "output_type": "stream",
     "text": [
      "UAutoRec with Confounder.\n"
     ]
    },
    {
     "name": "stderr",
     "output_type": "stream",
     "text": [
      "Training: 100%|██████████| 200/200 [12:24<00:00,  3.72s/epoch, Loss=3.41e+4, RMSE=0.99, MAE=0.804] \n"
     ]
    },
    {
     "name": "stdout",
     "output_type": "stream",
     "text": [
      "UAutoRec with Confounder.\n"
     ]
    },
    {
     "name": "stderr",
     "output_type": "stream",
     "text": [
      "Training: 100%|██████████| 200/200 [12:24<00:00,  3.72s/epoch, Loss=3.43e+4, RMSE=0.988, MAE=0.8]  \n"
     ]
    },
    {
     "name": "stdout",
     "output_type": "stream",
     "text": [
      "UAutoRec with Confounder.\n"
     ]
    },
    {
     "name": "stderr",
     "output_type": "stream",
     "text": [
      "Training: 100%|██████████| 200/200 [12:07<00:00,  3.64s/epoch, Loss=3.66e+4, RMSE=0.972, MAE=0.782]\n"
     ]
    },
    {
     "name": "stdout",
     "output_type": "stream",
     "text": [
      "Average Final RMSE: 0.9798631310008418, Average Final Train Loss: 36131.50035511363\n",
      "Completed UAutoRec2conf with k=32\n",
      "Running UAutoRec2confexp with k=32, use_confounder=True, use_exposure=True\n",
      "Train set size: 994173 ratings\n",
      "Test set size: 6040 ratings\n",
      "Load data finished. Number of users: 6040 Number of items: 3706\n",
      "Loaded data: train=(6040, 3706), test=(6040, 3706), user=6040, item=3706\n",
      "UAutoRec with Confounder and Exposure.\n"
     ]
    },
    {
     "name": "stderr",
     "output_type": "stream",
     "text": [
      "Training: 100%|██████████| 200/200 [14:39<00:00,  4.40s/epoch, Loss=3.23e+4, RMSE=0.976, MAE=0.788]\n"
     ]
    },
    {
     "name": "stdout",
     "output_type": "stream",
     "text": [
      "UAutoRec with Confounder and Exposure.\n"
     ]
    },
    {
     "name": "stderr",
     "output_type": "stream",
     "text": [
      "Training: 100%|██████████| 200/200 [14:35<00:00,  4.38s/epoch, Loss=2.91e+4, RMSE=1, MAE=0.813]    \n"
     ]
    },
    {
     "name": "stdout",
     "output_type": "stream",
     "text": [
      "UAutoRec with Confounder and Exposure.\n"
     ]
    },
    {
     "name": "stderr",
     "output_type": "stream",
     "text": [
      "Training: 100%|██████████| 200/200 [14:50<00:00,  4.45s/epoch, Loss=2.77e+4, RMSE=1.01, MAE=0.824] \n"
     ]
    },
    {
     "name": "stdout",
     "output_type": "stream",
     "text": [
      "UAutoRec with Confounder and Exposure.\n"
     ]
    },
    {
     "name": "stderr",
     "output_type": "stream",
     "text": [
      "Training: 100%|██████████| 200/200 [14:35<00:00,  4.38s/epoch, Loss=3.08e+4, RMSE=0.987, MAE=0.798]\n"
     ]
    },
    {
     "name": "stdout",
     "output_type": "stream",
     "text": [
      "UAutoRec with Confounder and Exposure.\n"
     ]
    },
    {
     "name": "stderr",
     "output_type": "stream",
     "text": [
      "Training: 100%|██████████| 200/200 [14:44<00:00,  4.42s/epoch, Loss=3.05e+4, RMSE=0.993, MAE=0.804]\n"
     ]
    },
    {
     "name": "stdout",
     "output_type": "stream",
     "text": [
      "Average Final RMSE: 0.9939792187805508, Average Final Train Loss: 30079.112144886363\n",
      "Completed UAutoRec2confexp with k=32\n",
      "Running UAutoRec3conf with k=32, use_confounder=True, use_exposure=False\n",
      "Train set size: 994173 ratings\n",
      "Test set size: 6040 ratings\n",
      "Load data finished. Number of users: 6040 Number of items: 3706\n",
      "Loaded data: train=(6040, 3706), test=(6040, 3706), user=6040, item=3706\n",
      "UAutoRec with Confounder.\n"
     ]
    },
    {
     "name": "stderr",
     "output_type": "stream",
     "text": [
      "Training: 100%|██████████| 200/200 [10:24<00:00,  3.12s/epoch, Loss=3.84e+4, RMSE=0.978, MAE=0.791]\n"
     ]
    },
    {
     "name": "stdout",
     "output_type": "stream",
     "text": [
      "UAutoRec with Confounder.\n"
     ]
    },
    {
     "name": "stderr",
     "output_type": "stream",
     "text": [
      "Training: 100%|██████████| 200/200 [10:53<00:00,  3.27s/epoch, Loss=3.86e+4, RMSE=0.973, MAE=0.783]\n"
     ]
    },
    {
     "name": "stdout",
     "output_type": "stream",
     "text": [
      "UAutoRec with Confounder.\n"
     ]
    },
    {
     "name": "stderr",
     "output_type": "stream",
     "text": [
      "Training: 100%|██████████| 200/200 [10:57<00:00,  3.29s/epoch, Loss=3.56e+4, RMSE=0.984, MAE=0.795]\n"
     ]
    },
    {
     "name": "stdout",
     "output_type": "stream",
     "text": [
      "UAutoRec with Confounder.\n"
     ]
    },
    {
     "name": "stderr",
     "output_type": "stream",
     "text": [
      "Training: 100%|██████████| 200/200 [11:00<00:00,  3.30s/epoch, Loss=3.88e+4, RMSE=0.968, MAE=0.78] \n"
     ]
    },
    {
     "name": "stdout",
     "output_type": "stream",
     "text": [
      "UAutoRec with Confounder.\n"
     ]
    },
    {
     "name": "stderr",
     "output_type": "stream",
     "text": [
      "Training: 100%|██████████| 200/200 [11:09<00:00,  3.35s/epoch, Loss=3.93e+4, RMSE=0.979, MAE=0.793]\n"
     ]
    },
    {
     "name": "stdout",
     "output_type": "stream",
     "text": [
      "Average Final RMSE: 0.9762695576951567, Average Final Train Loss: 38152.94854403409\n",
      "Completed UAutoRec3conf with k=32\n",
      "Running UAutoRec3confexp with k=32, use_confounder=True, use_exposure=True\n",
      "Train set size: 994173 ratings\n",
      "Test set size: 6040 ratings\n",
      "Load data finished. Number of users: 6040 Number of items: 3706\n",
      "Loaded data: train=(6040, 3706), test=(6040, 3706), user=6040, item=3706\n",
      "UAutoRec with Confounder and Exposure.\n"
     ]
    },
    {
     "name": "stderr",
     "output_type": "stream",
     "text": [
      "Training: 100%|██████████| 200/200 [11:43<00:00,  3.52s/epoch, Loss=3.45e+4, RMSE=0.99, MAE=0.798] \n"
     ]
    },
    {
     "name": "stdout",
     "output_type": "stream",
     "text": [
      "UAutoRec with Confounder and Exposure.\n"
     ]
    },
    {
     "name": "stderr",
     "output_type": "stream",
     "text": [
      "Training: 100%|██████████| 200/200 [12:16<00:00,  3.68s/epoch, Loss=3.31e+4, RMSE=0.992, MAE=0.802]\n"
     ]
    },
    {
     "name": "stdout",
     "output_type": "stream",
     "text": [
      "UAutoRec with Confounder and Exposure.\n"
     ]
    },
    {
     "name": "stderr",
     "output_type": "stream",
     "text": [
      "Training: 100%|██████████| 200/200 [11:43<00:00,  3.52s/epoch, Loss=3.1e+4, RMSE=1, MAE=0.812]     \n"
     ]
    },
    {
     "name": "stdout",
     "output_type": "stream",
     "text": [
      "UAutoRec with Confounder and Exposure.\n"
     ]
    },
    {
     "name": "stderr",
     "output_type": "stream",
     "text": [
      "Training: 100%|██████████| 200/200 [12:21<00:00,  3.71s/epoch, Loss=3.46e+4, RMSE=0.991, MAE=0.801]\n"
     ]
    },
    {
     "name": "stdout",
     "output_type": "stream",
     "text": [
      "UAutoRec with Confounder and Exposure.\n"
     ]
    },
    {
     "name": "stderr",
     "output_type": "stream",
     "text": [
      "Training: 100%|██████████| 200/200 [11:43<00:00,  3.52s/epoch, Loss=3.25e+4, RMSE=0.998, MAE=0.808]\n"
     ]
    },
    {
     "name": "stdout",
     "output_type": "stream",
     "text": [
      "Average Final RMSE: 0.9944849700583352, Average Final Train Loss: 33141.62901278409\n",
      "Completed UAutoRec3confexp with k=32\n"
     ]
    }
   ],
   "source": [
    "def run_all_models(result_path, models, k_values, contype):\n",
    "    for c in contype:\n",
    "        for k in k_values:\n",
    "            for model in models:\n",
    "                use_confounder = 'conf' in model['module_name']\n",
    "                use_exposure = 'exp' in model['module_name']\n",
    "                \n",
    "                print(f\"Running {model['class_name']} with k={k}, use_confounder={use_confounder}, use_exposure={use_exposure}\")\n",
    "                run_model(model['module_name'], model['class_name'], k, c, dat='ml2', use_confounder=use_confounder, use_exposure=use_exposure, test_size=0.1, val_size=0.1, hidden_neuron=500, \n",
    "                        learning_rate=0.001, reg_rate=1, epoch=200, batch_size=512, verbose=True, save_path=result_path, num_runs=5)\n",
    "                \n",
    "                print(f\"Completed {model['class_name']} with k={k}\")\n",
    "\n",
    "result_path = 'C:/Users/Sten Stokroos/Desktop/NEW/zelf/results2'\n",
    "\n",
    "models = [\n",
    "    {'module_name': 'urec_og', 'class_name': 'UAutoRec'},\n",
    "    {'module_name': 'urec_1_conf', 'class_name': 'UAutoRec1conf'},\n",
    "    {'module_name': 'urec_1_confexp', 'class_name': 'UAutoRec1confexp'},\n",
    "    {'module_name': 'urec_2_conf', 'class_name': 'UAutoRec2conf'},\n",
    "    {'module_name': 'urec_2_confexp', 'class_name': 'UAutoRec2confexp'},\n",
    "    {'module_name': 'urec_3_conf', 'class_name': 'UAutoRec3conf'},\n",
    "    {'module_name': 'urec_3_confexp', 'class_name': 'UAutoRec3confexp'},\n",
    "    # {'module_name': 'urec_4_conf', 'class_name': 'UAutoRec4conf'},\n",
    "    # {'module_name': 'urec_4_confexp', 'class_name': 'UAutoRec4confexp'}\n",
    "]\n",
    "\n",
    "k_values = [32]\n",
    "contype = ['hpf', 'mlp']\n",
    "\n",
    "run_all_models(result_path, models, k_values, contype)\n",
    "\n"
   ]
  },
  {
   "cell_type": "code",
   "execution_count": 10,
   "metadata": {},
   "outputs": [
    {
     "name": "stdout",
     "output_type": "stream",
     "text": [
      "Training loss plot saved to C:/Users/Sten Stokroos/Desktop/NEW/zelf/plots_outcome\\movielens2_hpf_training_loss_with_ci.png\n"
     ]
    },
    {
     "data": {
      "image/png": "[encoded data removed]",
      "text/plain": [
       "<Figure size 800x600 with 1 Axes>"
      ]
     },
     "metadata": {},
     "output_type": "display_data"
    },
    {
     "name": "stdout",
     "output_type": "stream",
     "text": [
      "Test RMSE plot saved to C:/Users/Sten Stokroos/Desktop/NEW/zelf/plots_outcome\\movielens2_hpf_test_rmse_with_ci.png\n"
     ]
    },
    {
     "data": {
      "image/png": "[encoded data removed]",
      "text/plain": [
       "<Figure size 800x600 with 1 Axes>"
      ]
     },
     "metadata": {},
     "output_type": "display_data"
    }
   ],
   "source": [
    "import matplotlib.pyplot as plt\n",
    "import pandas as pd\n",
    "from scipy.stats import t\n",
    "import numpy as np\n",
    "import os\n",
    "\n",
    "def load_run_data(class_folder, contype, epoch, dat, k, num_runs):\n",
    "    run_train_loss_histories = []\n",
    "    run_test_rmse_histories = []\n",
    "\n",
    "    for run in range(num_runs):\n",
    "        train_loss_file = os.path.join(class_folder, f'{contype}{epoch}_run_{run}_train_loss_{dat}_k{k}.npy')\n",
    "        test_rmse_file = os.path.join(class_folder, f'{contype}{epoch}_run_{run}_test_rmse_{dat}_k{k}.npy')\n",
    "\n",
    "        if os.path.exists(train_loss_file) and os.path.exists(test_rmse_file):\n",
    "            train_loss_history = np.load(train_loss_file)\n",
    "            test_rmse_history = np.load(test_rmse_file)\n",
    "            run_train_loss_histories.append(train_loss_history)\n",
    "            run_test_rmse_histories.append(test_rmse_history)\n",
    "\n",
    "    return np.array(run_train_loss_histories), np.array(run_test_rmse_histories)\n",
    "\n",
    "def compute_statistics(data):\n",
    "    \"\"\"Compute mean, standard deviation, and sample size using .describe() method.\"\"\"\n",
    "    desc = pd.DataFrame(data).describe()\n",
    "    mean = desc.loc['mean'].values\n",
    "    std = desc.loc['std'].values\n",
    "    n = desc.loc['count'].values\n",
    "    return mean, std, n\n",
    "\n",
    "def compute_confidence_intervals(mean, std, n, confidence_level=0.95):\n",
    "    t_value = t.ppf((1 + confidence_level) / 2., n-1)\n",
    "    margin_of_error = t_value * (std / np.sqrt(n))\n",
    "    lower_bound = mean - margin_of_error\n",
    "    upper_bound = mean + margin_of_error\n",
    "    return lower_bound, upper_bound\n",
    "\n",
    "def plot_with_confidence_intervals(epochs, mean, lower_bound, upper_bound, label, color):\n",
    "    plt.plot(epochs, mean, label=label, color=color)\n",
    "    plt.fill_between(epochs, lower_bound, upper_bound, color=color, alpha=0.2)\n",
    "\n",
    "def plot_results_with_ci(result_path, models, k_values, contype, save_plots=False, plot_path='C:/Users/Sten Stokroos/Desktop/NEW/zelf/plots_outcome', note='', epoch=200, num_runs=5):\n",
    "    color_map = {\n",
    "        'uautorec': 'black',\n",
    "        'uautorec1conf': 'crimson',\n",
    "        'uautorec1confexp': 'darkred',\n",
    "        'uautorec2conf': 'limegreen',\n",
    "        'uautorec2confexp': 'darkgreen',\n",
    "        'uautorec3conf': 'lightskyblue',\n",
    "        'uautorec3confexp': 'navy',\n",
    "        'uautorec4conf': 'gold',\n",
    "        'uautorec4confexp': 'orange'\n",
    "    }\n",
    "\n",
    "    for c in contype:\n",
    "        for k in k_values:\n",
    "            # Plot training loss\n",
    "            plt.figure(figsize=(8, 6))\n",
    "            for model in models:\n",
    "                class_name = model['class_name'].lower()\n",
    "                class_folder = os.path.join(result_path, class_name)\n",
    "\n",
    "                run_train_loss_histories, run_test_rmse_histories = load_run_data(class_folder, c, epoch, 'ml2', k, num_runs)\n",
    "\n",
    "                if run_train_loss_histories.size == 0 or run_test_rmse_histories.size == 0:\n",
    "                    print(f\"No data found for {class_name} with k={k}, conf={c}\")\n",
    "                    continue\n",
    "\n",
    "                mean_train_loss, std_train_loss, n_train_loss = compute_statistics(run_train_loss_histories)\n",
    "                lower_train_loss, upper_train_loss = compute_confidence_intervals(mean_train_loss, std_train_loss, n_train_loss)\n",
    "\n",
    "                epochs = np.arange(1, len(mean_train_loss) + 1)\n",
    "                color = color_map.get(class_name, 'black')\n",
    "\n",
    "                plot_with_confidence_intervals(epochs, mean_train_loss, lower_train_loss, upper_train_loss, f'{class_name} Training Loss (k={k}, conf={c})', color)\n",
    "\n",
    "            plt.xlabel('Epochs', fontsize=20)\n",
    "            plt.ylabel('Loss', fontsize=20)\n",
    "            plt.xticks(fontsize=20)\n",
    "            plt.yticks(fontsize=20)\n",
    "            plt.title('Training Loss with Confidence Intervals', fontsize=24)\n",
    "            plt.legend(fontsize=13)\n",
    "            plt.grid(True)\n",
    "            plt.tight_layout()\n",
    "\n",
    "            if save_plots:\n",
    "                if not os.path.exists(plot_path):\n",
    "                    os.makedirs(plot_path)\n",
    "\n",
    "                plot_file = os.path.join(plot_path, f'{note}_training_loss_with_ci.png')\n",
    "                plt.savefig(plot_file)\n",
    "                print(f\"Training loss plot saved to {plot_file}\")\n",
    "\n",
    "            plt.show()\n",
    "\n",
    "            # Plot test RMSE\n",
    "            plt.figure(figsize=(8, 6))\n",
    "            for model in models:\n",
    "                class_name = model['class_name'].lower()\n",
    "                class_folder = os.path.join(result_path, class_name)\n",
    "\n",
    "                run_train_loss_histories, run_test_rmse_histories = load_run_data(class_folder, c, epoch, 'ml2', k, num_runs)\n",
    "\n",
    "                if run_train_loss_histories.size == 0 or run_test_rmse_histories.size == 0:\n",
    "                    print(f\"No data found for {class_name} with k={k}, conf={c}\")\n",
    "                    continue\n",
    "\n",
    "                mean_test_rmse, std_test_rmse, n_test_rmse = compute_statistics(run_test_rmse_histories)\n",
    "                lower_test_rmse, upper_test_rmse = compute_confidence_intervals(mean_test_rmse, std_test_rmse, n_test_rmse)\n",
    "\n",
    "                epochs = np.arange(1, len(mean_test_rmse) + 1)\n",
    "                color = color_map.get(class_name, 'black')\n",
    "\n",
    "                plot_with_confidence_intervals(epochs, mean_test_rmse, lower_test_rmse, upper_test_rmse, f'{class_name} Test RMSE (k={k}, conf={c})', color)\n",
    "\n",
    "            plt.xlabel('Epochs', fontsize=20)\n",
    "            plt.ylabel('RMSE', fontsize=20)\n",
    "            plt.xticks(fontsize=20)\n",
    "            plt.yticks(fontsize=20)\n",
    "            plt.title('Test RMSE with Confidence Intervals', fontsize=24)\n",
    "            plt.legend(fontsize=13)\n",
    "            plt.grid(True)\n",
    "            plt.tight_layout()\n",
    "\n",
    "            if save_plots:\n",
    "                if not os.path.exists(plot_path):\n",
    "                    os.makedirs(plot_path)\n",
    "\n",
    "                plot_file = os.path.join(plot_path, f'{note}_test_rmse_with_ci.png')\n",
    "                plt.savefig(plot_file)\n",
    "                print(f\"Test RMSE plot saved to {plot_file}\")\n",
    "\n",
    "            plt.show()\n",
    "\n",
    "# Example usage\n",
    "result_path = 'C:/Users/Sten Stokroos/Desktop/NEW/zelf/results2'\n",
    "models = [\n",
    "    {'module_name': 'urec_og', 'class_name': 'UAutoRec'},\n",
    "    {'module_name': 'urec_2_conf', 'class_name': 'UAutoRec2conf'},\n",
    "    {'module_name': 'urec_2_confexp', 'class_name': 'UAutoRec2confexp'},\n",
    "]\n",
    "k_values = [32]\n",
    "contype = ['hpf']\n",
    "\n",
    "plot_results_with_ci(result_path, models, k_values, contype, save_plots=True, plot_path='C:/Users/Sten Stokroos/Desktop/NEW/zelf/plots_outcome', note='movielens2_hpf', epoch=200)\n"
   ]
  },
  {
   "cell_type": "code",
   "execution_count": null,
   "metadata": {},
   "outputs": [
    {
     "name": "stdout",
     "output_type": "stream",
     "text": [
      "random seed:  42\n"
     ]
    }
   ],
   "source": [
    "import tensorflow as tf\n",
    "import time\n",
    "import numpy as np\n",
    "import pandas as pd\n",
    "from sklearn.model_selection import train_test_split\n",
    "from scipy.sparse import csr_matrix\n",
    "from tqdm import tqdm\n",
    "from hyperopt import hp, fmin, tpe, Trials, STATUS_OK\n",
    "import os\n",
    "import importlib\n",
    "\n",
    "dir_ml = 'C:/Users/Sten Stokroos/Desktop/NEW/zelf/Data/out'\n",
    "randseed = 42\n",
    "print(\"random seed: \", randseed)\n",
    "np.random.seed(randseed)\n",
    "\n",
    "def choose_data(dat, test_size, val_size):\n",
    "    if dat == 'ml2':\n",
    "        train = pd.read_csv(os.path.join(dir_ml, 'ml_train2.csv'), sep=\"\\t\", header=None, names=['userId', 'songId', 'rating'], usecols=[0, 1, 2], engine=\"python\")\n",
    "        test = pd.read_csv(os.path.join(dir_ml, 'ml_test2.csv'), sep=\"\\t\", header=None, names=['userId', 'songId', 'rating'], usecols=[0, 1, 2], engine=\"python\")\n",
    "        val = None  # Assuming no validation set for 'ml2'\n",
    "        user_ids = train['userId'].unique()\n",
    "        item_ids = train['songId'].unique()\n",
    "        n_users = len(user_ids)\n",
    "        n_items = len(item_ids)\n",
    "    elif dat == 'ml':\n",
    "        ml_full = pd.read_csv(os.path.join(dir_ml, 'ml-1m_full.csv'), sep=\"\\t\", header=None, names=['userId', 'songId', 'rating'], usecols=[0, 1, 2], engine=\"python\")\n",
    "        user_ids = ml_full['userId'].unique()\n",
    "        item_ids = ml_full['songId'].unique()\n",
    "        n_users = len(user_ids)\n",
    "        n_items = len(item_ids)\n",
    "        train, test = train_test_split(ml_full, test_size=test_size, random_state=42)\n",
    "    else:\n",
    "        print('Wrong data input')\n",
    "        return None, None, None, None, None\n",
    "\n",
    "    print(f\"Train set size: {train.shape[0]} ratings\")\n",
    "    print(f\"Test set size: {test.shape[0]} ratings\")\n",
    "    return train, test, n_users, n_items\n",
    "\n",
    "def load_confounders(dat, k, contype):\n",
    "    CAUSEFIT_DIR = f'C:/Users/Sten Stokroos/Desktop/NEW/zelf/Data/exposure_output/{dat}_exp_k_{k}.csv'\n",
    "    conf_df = pd.read_csv(CAUSEFIT_DIR, header=None)\n",
    "    confounder_data = conf_df.to_numpy().T\n",
    "    return confounder_data\n",
    "\n",
    "def load_data_rating(dat, columns=[0, 1, 2], sep=\"\\t\", include_validation=False, test_size=0.1, val_size=0.1):\n",
    "    train, test, n_users, n_items = choose_data(dat, test_size, val_size)\n",
    "\n",
    "\n",
    "\n",
    "\n",
    "    def build_matrix(df):\n",
    "        rows = []\n",
    "        cols = []\n",
    "        ratings = []\n",
    "        for line in df.itertuples():\n",
    "            rows.append(line[1])\n",
    "            cols.append(line[2])\n",
    "            ratings.append(line[3])\n",
    "        return csr_matrix((ratings, (rows, cols)), shape=(n_users, n_items)).todok()\n",
    "\n",
    "    train_matrix = build_matrix(train)\n",
    "    test_matrix = build_matrix(test)\n",
    "\n",
    "\n",
    "\n",
    "    print(\"Load data finished. Number of users:\", n_users, \"Number of items:\", n_items)\n",
    "    return train_matrix, test_matrix, n_users, n_items\n",
    "\n",
    "def run_model(module_name, class_name, k, contype='hpf', dat='ml', use_confounder=False, use_exposure=False, test_size=0.1, val_size=0.1, \n",
    "              hidden_neuron=500, learning_rate=0.001, reg_rate=0.1, epoch=20, batch_size=200, verbose=False, T=1, display_step=1000, save_path=None, num_runs=5):\n",
    "    \n",
    "    train, test, n_users, n_items = load_data_rating(dat, columns=[0, 1, 2], sep=\"\\t\", test_size=test_size, val_size=val_size)\n",
    "    \n",
    "    print(f\"Loaded data: train={train.shape}, test={test.shape}, user={n_users}, item={n_items}\")\n",
    "\n",
    "    confounder_data = None\n",
    "    exposure_data = None\n",
    "\n",
    "    if use_confounder:\n",
    "        confounder_data = load_confounders(dat, k, contype)\n",
    "    if use_exposure:\n",
    "        exposure_data = (train > 0).astype(np.float32).todense().T\n",
    "\n",
    "    config = tf.compat.v1.ConfigProto()\n",
    "    config.gpu_options.allow_growth = True\n",
    "\n",
    "    avg_train_loss_history = []\n",
    "    avg_test_rmse_history = []\n",
    "\n",
    "    for run in range(num_runs):\n",
    "        with tf.compat.v1.Session(config=config) as sess:\n",
    "            module = importlib.import_module(module_name)\n",
    "            model_class = getattr(module, class_name)\n",
    "\n",
    "            final_model = model_class(sess, n_users, n_items, learning_rate=learning_rate, reg_rate=reg_rate, epoch=epoch, batch_size=batch_size, verbose=verbose, T=T, display_step=display_step)\n",
    "            final_model.build_network(hidden_neuron=hidden_neuron)\n",
    "            \n",
    "            if confounder_data is not None and exposure_data is not None:\n",
    "                final_model.execute(train, test, confounder_data, exposure_data)\n",
    "            elif confounder_data is not None:\n",
    "                final_model.execute(train, test, confounder_data)\n",
    "            else:\n",
    "                final_model.execute(train, test)\n",
    "\n",
    "            if run == 0:\n",
    "                avg_train_loss_history = np.array(final_model.train_loss_history)\n",
    "                avg_test_rmse_history = np.array(final_model.test_rmse_history)\n",
    "            else:\n",
    "                avg_train_loss_history += np.array(final_model.train_loss_history)\n",
    "                avg_test_rmse_history += np.array(final_model.test_rmse_history)\n",
    "\n",
    "            if save_path:\n",
    "                class_folder = os.path.join(save_path, class_name.lower())\n",
    "                os.makedirs(class_folder, exist_ok=True)\n",
    "                np.save(os.path.join(class_folder, f'{contype}{epoch}_run_{run}_train_loss_{dat}_k{k}.npy'), np.array(final_model.train_loss_history))\n",
    "                np.save(os.path.join(class_folder, f'{contype}{epoch}_run_{run}_test_rmse_{dat}_k{k}.npy'), np.array(final_model.test_rmse_history))\n",
    "\n",
    "    avg_train_loss_history /= num_runs\n",
    "    avg_test_rmse_history /= num_runs\n",
    "\n",
    "    if save_path:\n",
    "        class_folder = os.path.join(save_path, class_name.lower())\n",
    "        np.save(os.path.join(class_folder, f'{contype}{epoch}_average_train_loss_{dat}_k{k}.npy'), avg_train_loss_history)\n",
    "        np.save(os.path.join(class_folder, f'{contype}{epoch}_average_test_rmse_{dat}_k{k}.npy'), avg_test_rmse_history)\n",
    "\n",
    "    print(f\"Average Final RMSE: {avg_test_rmse_history[-1]}, Average Final Train Loss: {avg_train_loss_history[-1]}\")\n",
    "\n",
    "    \n"
   ]
  },
  {
   "cell_type": "code",
   "execution_count": null,
   "metadata": {},
   "outputs": [],
   "source": []
  }
 ],
 "metadata": {
  "kernelspec": {
   "display_name": "auto",
   "language": "python",
   "name": "python3"
  },
  "language_info": {
   "codemirror_mode": {
    "name": "ipython",
    "version": 3
   },
   "file_extension": ".py",
   "mimetype": "text/x-python",
   "name": "python",
   "nbconvert_exporter": "python",
   "pygments_lexer": "ipython3",
   "version": "3.7.12"
  }
 },
 "nbformat": 4,
 "nbformat_minor": 2
}
